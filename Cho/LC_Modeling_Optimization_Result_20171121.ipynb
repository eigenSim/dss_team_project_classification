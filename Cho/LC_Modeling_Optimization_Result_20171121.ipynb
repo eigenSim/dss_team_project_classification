{
 "cells": [
  {
   "cell_type": "markdown",
   "metadata": {},
   "source": [
    "# * Env Set"
   ]
  },
  {
   "cell_type": "code",
   "execution_count": null,
   "metadata": {
    "collapsed": true
   },
   "outputs": [],
   "source": [
    "# pd.set_option('display.height', 1000)\n",
    "pd.set_option('display.max_rows', 1000)\n",
    "pd.set_option('display.max_columns', 1000)\n",
    "# pd.set_option('display.width', 1000)\n",
    "# dfX_std_scaled_3area_pca_df"
   ]
  },
  {
   "cell_type": "markdown",
   "metadata": {},
   "source": [
    "# * Importing Part"
   ]
  },
  {
   "cell_type": "code",
   "execution_count": 12,
   "metadata": {},
   "outputs": [
    {
     "name": "stderr",
     "output_type": "stream",
     "text": [
      "/home/dockeruser/anaconda3/lib/python3.6/site-packages/sklearn/cross_validation.py:41: DeprecationWarning: This module was deprecated in version 0.18 in favor of the model_selection module into which all the refactored classes and functions are moved. Also note that the interface of the new CV iterators are different from that of this module. This module will be removed in 0.20.\n",
      "  \"This module will be removed in 0.20.\", DeprecationWarning)\n"
     ]
    }
   ],
   "source": [
    "import numpy as np\n",
    "import pandas as pd\n",
    "import matplotlib.pylab as plt\n",
    "import seaborn as sns\n",
    "\n",
    "from sklearn.discriminant_analysis import QuadraticDiscriminantAnalysis\n",
    "from sklearn.naive_bayes import GaussianNB, MultinomialNB\n",
    "from sklearn.linear_model import LogisticRegression, Perceptron, SGDClassifier\n",
    "from sklearn.tree import DecisionTreeClassifier\n",
    "from sklearn.ensemble import VotingClassifier, BaggingClassifier, RandomForestClassifier, ExtraTreesClassifier,\\\n",
    "                             AdaBoostClassifier, GradientBoostingClassifier\n",
    "import xgboost\n",
    "from sklearn.svm import SVC\n",
    "\n",
    "from sklearn.model_selection import cross_val_score, GridSearchCV"
   ]
  },
  {
   "cell_type": "markdown",
   "metadata": {},
   "source": [
    "# * Function Moduling Part"
   ]
  },
  {
   "cell_type": "code",
   "execution_count": 100,
   "metadata": {
    "collapsed": true
   },
   "outputs": [],
   "source": [
    "# encogin categorical values for further processing\n",
    "def encode_cat(df):\n",
    "    \"\"\"\n",
    "       Input : train_df \n",
    "       Output : encoded_train_df\n",
    "    \"\"\"\n",
    "    # get categorical(type='object') variable\n",
    "    cat_var_df = df.select_dtypes(include=['object']).copy()    \n",
    "    \n",
    "    cleanup_nums = {}\n",
    "    \n",
    "    # species columns encoding\n",
    "    spe_index = 0\n",
    "    spe_enc_dict = {}\n",
    "    spe_enc_list = []\n",
    "    for key in set(cat_var_df['species'].values):\n",
    "        spe_enc_dict[key] = spe_index\n",
    "        spe_index += 1\n",
    "        \n",
    "        # keep list for final recovery\n",
    "        spe_enc_list.append(key)\n",
    "    cleanup_nums['species'] = spe_enc_dict\n",
    "    \n",
    "    try:\n",
    "        cat_var_df.replace(cleanup_nums, inplace=True)\n",
    "    except:\n",
    "        pass\n",
    "    \n",
    "    df = df.drop(cat_var_df.columns, axis=1)\n",
    "    df = pd.concat([df, cat_var_df], axis=1)\n",
    "    return df, spe_enc_list"
   ]
  },
  {
   "cell_type": "markdown",
   "metadata": {},
   "source": [
    "# * Data handling Part"
   ]
  },
  {
   "cell_type": "code",
   "execution_count": 101,
   "metadata": {},
   "outputs": [],
   "source": [
    "train_processed_df = pd.read_csv(\"../train_processed_df_20171121.csv\")\n",
    "test_processed_df = pd.read_csv(\"../test_processed_df_20171121.csv\")\n",
    "\n",
    "dfy, sub_list = encode_cat(pd.read_csv(\"../train.csv\")[['species']].copy())\n",
    "dfy = dfy.iloc[:, 0]\n",
    "dfX = train_processed_df.drop(['id', 'species'],axis=1).copy()\n",
    "\n",
    "dfX_test = test_processed_df.drop(['id'],axis=1).copy()\n",
    "test_id_df = test_processed_df['id'].copy()"
   ]
  },
  {
   "cell_type": "code",
   "execution_count": 48,
   "metadata": {},
   "outputs": [
    {
     "name": "stdout",
     "output_type": "stream",
     "text": [
      "(990, 249)\n",
      "(594, 248)\n",
      "(990, 247)\n",
      "(990,)\n"
     ]
    }
   ],
   "source": [
    "print(train_processed_df.shape)\n",
    "print(test_processed_df.shape)\n",
    "\n",
    "print(dfX.shape)\n",
    "print(dfy.shape)"
   ]
  },
  {
   "cell_type": "code",
   "execution_count": 50,
   "metadata": {},
   "outputs": [
    {
     "data": {
      "text/html": [
       "<div>\n",
       "<style>\n",
       "    .dataframe thead tr:only-child th {\n",
       "        text-align: right;\n",
       "    }\n",
       "\n",
       "    .dataframe thead th {\n",
       "        text-align: left;\n",
       "    }\n",
       "\n",
       "    .dataframe tbody tr th {\n",
       "        vertical-align: top;\n",
       "    }\n",
       "</style>\n",
       "<table border=\"1\" class=\"dataframe\">\n",
       "  <thead>\n",
       "    <tr style=\"text-align: right;\">\n",
       "      <th></th>\n",
       "      <th>margin1</th>\n",
       "      <th>margin2</th>\n",
       "      <th>margin3</th>\n",
       "      <th>margin4</th>\n",
       "      <th>margin5</th>\n",
       "      <th>margin6</th>\n",
       "      <th>margin7</th>\n",
       "      <th>margin8</th>\n",
       "      <th>margin9</th>\n",
       "      <th>margin10</th>\n",
       "      <th>...</th>\n",
       "      <th>42</th>\n",
       "      <th>43</th>\n",
       "      <th>44</th>\n",
       "      <th>45</th>\n",
       "      <th>46</th>\n",
       "      <th>47</th>\n",
       "      <th>48</th>\n",
       "      <th>49</th>\n",
       "      <th>id</th>\n",
       "      <th>species</th>\n",
       "    </tr>\n",
       "  </thead>\n",
       "  <tbody>\n",
       "    <tr>\n",
       "      <th>count</th>\n",
       "      <td>9.900000e+02</td>\n",
       "      <td>9.900000e+02</td>\n",
       "      <td>9.900000e+02</td>\n",
       "      <td>9.900000e+02</td>\n",
       "      <td>9.900000e+02</td>\n",
       "      <td>9.900000e+02</td>\n",
       "      <td>9.900000e+02</td>\n",
       "      <td>9.900000e+02</td>\n",
       "      <td>9.900000e+02</td>\n",
       "      <td>9.900000e+02</td>\n",
       "      <td>...</td>\n",
       "      <td>990.0</td>\n",
       "      <td>990.0</td>\n",
       "      <td>990.0</td>\n",
       "      <td>990.0</td>\n",
       "      <td>990.0</td>\n",
       "      <td>990.0</td>\n",
       "      <td>990.0</td>\n",
       "      <td>990.0</td>\n",
       "      <td>990.000000</td>\n",
       "      <td>990.000000</td>\n",
       "    </tr>\n",
       "    <tr>\n",
       "      <th>mean</th>\n",
       "      <td>-5.354864e-17</td>\n",
       "      <td>1.053030e-16</td>\n",
       "      <td>-1.409121e-16</td>\n",
       "      <td>-9.173358e-17</td>\n",
       "      <td>-4.126890e-17</td>\n",
       "      <td>9.425681e-17</td>\n",
       "      <td>-1.103494e-16</td>\n",
       "      <td>-2.938166e-16</td>\n",
       "      <td>-1.855418e-16</td>\n",
       "      <td>1.238067e-16</td>\n",
       "      <td>...</td>\n",
       "      <td>0.0</td>\n",
       "      <td>0.0</td>\n",
       "      <td>0.0</td>\n",
       "      <td>0.0</td>\n",
       "      <td>0.0</td>\n",
       "      <td>0.0</td>\n",
       "      <td>0.0</td>\n",
       "      <td>0.0</td>\n",
       "      <td>799.595960</td>\n",
       "      <td>49.000000</td>\n",
       "    </tr>\n",
       "    <tr>\n",
       "      <th>std</th>\n",
       "      <td>1.000505e+00</td>\n",
       "      <td>1.000505e+00</td>\n",
       "      <td>1.000505e+00</td>\n",
       "      <td>1.000505e+00</td>\n",
       "      <td>1.000505e+00</td>\n",
       "      <td>1.000505e+00</td>\n",
       "      <td>1.000505e+00</td>\n",
       "      <td>1.000505e+00</td>\n",
       "      <td>1.000505e+00</td>\n",
       "      <td>1.000505e+00</td>\n",
       "      <td>...</td>\n",
       "      <td>0.0</td>\n",
       "      <td>0.0</td>\n",
       "      <td>0.0</td>\n",
       "      <td>0.0</td>\n",
       "      <td>0.0</td>\n",
       "      <td>0.0</td>\n",
       "      <td>0.0</td>\n",
       "      <td>0.0</td>\n",
       "      <td>452.477568</td>\n",
       "      <td>28.591824</td>\n",
       "    </tr>\n",
       "    <tr>\n",
       "      <th>min</th>\n",
       "      <td>-8.825754e-01</td>\n",
       "      <td>-7.348805e-01</td>\n",
       "      <td>-1.238218e+00</td>\n",
       "      <td>-8.197939e-01</td>\n",
       "      <td>-7.760232e-01</td>\n",
       "      <td>-7.418616e-01</td>\n",
       "      <td>-1.097116e+00</td>\n",
       "      <td>-3.950641e-01</td>\n",
       "      <td>-8.027649e-01</td>\n",
       "      <td>-1.160382e+00</td>\n",
       "      <td>...</td>\n",
       "      <td>0.0</td>\n",
       "      <td>0.0</td>\n",
       "      <td>0.0</td>\n",
       "      <td>0.0</td>\n",
       "      <td>0.0</td>\n",
       "      <td>0.0</td>\n",
       "      <td>0.0</td>\n",
       "      <td>0.0</td>\n",
       "      <td>1.000000</td>\n",
       "      <td>0.000000</td>\n",
       "    </tr>\n",
       "    <tr>\n",
       "      <th>25%</th>\n",
       "      <td>-7.835843e-01</td>\n",
       "      <td>-6.845911e-01</td>\n",
       "      <td>-7.089881e-01</td>\n",
       "      <td>-6.134687e-01</td>\n",
       "      <td>-6.697691e-01</td>\n",
       "      <td>-7.418616e-01</td>\n",
       "      <td>-7.623545e-01</td>\n",
       "      <td>-3.950641e-01</td>\n",
       "      <td>-5.840194e-01</td>\n",
       "      <td>-7.956363e-01</td>\n",
       "      <td>...</td>\n",
       "      <td>0.0</td>\n",
       "      <td>0.0</td>\n",
       "      <td>0.0</td>\n",
       "      <td>0.0</td>\n",
       "      <td>0.0</td>\n",
       "      <td>0.0</td>\n",
       "      <td>0.0</td>\n",
       "      <td>0.0</td>\n",
       "      <td>415.250000</td>\n",
       "      <td>24.000000</td>\n",
       "    </tr>\n",
       "    <tr>\n",
       "      <th>50%</th>\n",
       "      <td>-3.875689e-01</td>\n",
       "      <td>-4.331187e-01</td>\n",
       "      <td>-2.553572e-01</td>\n",
       "      <td>-3.383332e-01</td>\n",
       "      <td>-3.510068e-01</td>\n",
       "      <td>-4.413996e-01</td>\n",
       "      <td>-2.043618e-01</td>\n",
       "      <td>-3.950641e-01</td>\n",
       "      <td>-1.465284e-01</td>\n",
       "      <td>-1.876642e-01</td>\n",
       "      <td>...</td>\n",
       "      <td>0.0</td>\n",
       "      <td>0.0</td>\n",
       "      <td>0.0</td>\n",
       "      <td>0.0</td>\n",
       "      <td>0.0</td>\n",
       "      <td>0.0</td>\n",
       "      <td>0.0</td>\n",
       "      <td>0.0</td>\n",
       "      <td>802.500000</td>\n",
       "      <td>49.000000</td>\n",
       "    </tr>\n",
       "    <tr>\n",
       "      <th>75%</th>\n",
       "      <td>4.044112e-01</td>\n",
       "      <td>3.212727e-01</td>\n",
       "      <td>5.006684e-01</td>\n",
       "      <td>2.119027e-01</td>\n",
       "      <td>1.803181e-01</td>\n",
       "      <td>3.379315e-01</td>\n",
       "      <td>5.768053e-01</td>\n",
       "      <td>-3.950641e-01</td>\n",
       "      <td>7.221712e-02</td>\n",
       "      <td>5.418898e-01</td>\n",
       "      <td>...</td>\n",
       "      <td>0.0</td>\n",
       "      <td>0.0</td>\n",
       "      <td>0.0</td>\n",
       "      <td>0.0</td>\n",
       "      <td>0.0</td>\n",
       "      <td>0.0</td>\n",
       "      <td>0.0</td>\n",
       "      <td>0.0</td>\n",
       "      <td>1195.500000</td>\n",
       "      <td>74.000000</td>\n",
       "    </tr>\n",
       "    <tr>\n",
       "      <th>max</th>\n",
       "      <td>3.572332e+00</td>\n",
       "      <td>4.545885e+00</td>\n",
       "      <td>4.810065e+00</td>\n",
       "      <td>5.163955e+00</td>\n",
       "      <td>5.280951e+00</td>\n",
       "      <td>5.229881e+00</td>\n",
       "      <td>4.147822e+00</td>\n",
       "      <td>1.100413e+01</td>\n",
       "      <td>7.728870e+00</td>\n",
       "      <td>4.919090e+00</td>\n",
       "      <td>...</td>\n",
       "      <td>0.0</td>\n",
       "      <td>0.0</td>\n",
       "      <td>0.0</td>\n",
       "      <td>0.0</td>\n",
       "      <td>0.0</td>\n",
       "      <td>0.0</td>\n",
       "      <td>0.0</td>\n",
       "      <td>0.0</td>\n",
       "      <td>1584.000000</td>\n",
       "      <td>98.000000</td>\n",
       "    </tr>\n",
       "  </tbody>\n",
       "</table>\n",
       "<p>8 rows × 249 columns</p>\n",
       "</div>"
      ],
      "text/plain": [
       "            margin1       margin2       margin3       margin4       margin5  \\\n",
       "count  9.900000e+02  9.900000e+02  9.900000e+02  9.900000e+02  9.900000e+02   \n",
       "mean  -5.354864e-17  1.053030e-16 -1.409121e-16 -9.173358e-17 -4.126890e-17   \n",
       "std    1.000505e+00  1.000505e+00  1.000505e+00  1.000505e+00  1.000505e+00   \n",
       "min   -8.825754e-01 -7.348805e-01 -1.238218e+00 -8.197939e-01 -7.760232e-01   \n",
       "25%   -7.835843e-01 -6.845911e-01 -7.089881e-01 -6.134687e-01 -6.697691e-01   \n",
       "50%   -3.875689e-01 -4.331187e-01 -2.553572e-01 -3.383332e-01 -3.510068e-01   \n",
       "75%    4.044112e-01  3.212727e-01  5.006684e-01  2.119027e-01  1.803181e-01   \n",
       "max    3.572332e+00  4.545885e+00  4.810065e+00  5.163955e+00  5.280951e+00   \n",
       "\n",
       "            margin6       margin7       margin8       margin9      margin10  \\\n",
       "count  9.900000e+02  9.900000e+02  9.900000e+02  9.900000e+02  9.900000e+02   \n",
       "mean   9.425681e-17 -1.103494e-16 -2.938166e-16 -1.855418e-16  1.238067e-16   \n",
       "std    1.000505e+00  1.000505e+00  1.000505e+00  1.000505e+00  1.000505e+00   \n",
       "min   -7.418616e-01 -1.097116e+00 -3.950641e-01 -8.027649e-01 -1.160382e+00   \n",
       "25%   -7.418616e-01 -7.623545e-01 -3.950641e-01 -5.840194e-01 -7.956363e-01   \n",
       "50%   -4.413996e-01 -2.043618e-01 -3.950641e-01 -1.465284e-01 -1.876642e-01   \n",
       "75%    3.379315e-01  5.768053e-01 -3.950641e-01  7.221712e-02  5.418898e-01   \n",
       "max    5.229881e+00  4.147822e+00  1.100413e+01  7.728870e+00  4.919090e+00   \n",
       "\n",
       "          ...         42     43     44     45     46     47     48     49  \\\n",
       "count     ...      990.0  990.0  990.0  990.0  990.0  990.0  990.0  990.0   \n",
       "mean      ...        0.0    0.0    0.0    0.0    0.0    0.0    0.0    0.0   \n",
       "std       ...        0.0    0.0    0.0    0.0    0.0    0.0    0.0    0.0   \n",
       "min       ...        0.0    0.0    0.0    0.0    0.0    0.0    0.0    0.0   \n",
       "25%       ...        0.0    0.0    0.0    0.0    0.0    0.0    0.0    0.0   \n",
       "50%       ...        0.0    0.0    0.0    0.0    0.0    0.0    0.0    0.0   \n",
       "75%       ...        0.0    0.0    0.0    0.0    0.0    0.0    0.0    0.0   \n",
       "max       ...        0.0    0.0    0.0    0.0    0.0    0.0    0.0    0.0   \n",
       "\n",
       "                id     species  \n",
       "count   990.000000  990.000000  \n",
       "mean    799.595960   49.000000  \n",
       "std     452.477568   28.591824  \n",
       "min       1.000000    0.000000  \n",
       "25%     415.250000   24.000000  \n",
       "50%     802.500000   49.000000  \n",
       "75%    1195.500000   74.000000  \n",
       "max    1584.000000   98.000000  \n",
       "\n",
       "[8 rows x 249 columns]"
      ]
     },
     "execution_count": 50,
     "metadata": {},
     "output_type": "execute_result"
    }
   ],
   "source": [
    "train_processed_df.describe()"
   ]
  },
  {
   "cell_type": "markdown",
   "metadata": {},
   "source": [
    "#   \n",
    "# 2. Modeling, Optimization, Result & Discussion\n",
    "- 2.1 Model selection & Optimization\n",
    "- 2.2 Result & Discussion"
   ]
  },
  {
   "cell_type": "markdown",
   "metadata": {},
   "source": [
    "## 2.1 Model selection & Optimization"
   ]
  },
  {
   "cell_type": "markdown",
   "metadata": {},
   "source": [
    "### 2.1.1 Random Model Trial : Model setting 1"
   ]
  },
  {
   "cell_type": "code",
   "execution_count": 26,
   "metadata": {
    "collapsed": true
   },
   "outputs": [],
   "source": [
    "# models abbreviate 1\n",
    "qda = QuadraticDiscriminantAnalysis()\n",
    "mnb = MultinomialNB()\n",
    "mnb_al2 = MultinomialNB(alpha=2.0)\n",
    "gnb = GaussianNB()\n",
    "lg = LogisticRegression()\n",
    "lg_lbf_mul = LogisticRegression(solver = 'lbfgs', multi_class = 'multinomial')\n",
    "dt_d10 = DecisionTreeClassifier(criterion='entropy', max_depth=10)\n",
    "dt_d20 = DecisionTreeClassifier(criterion='entropy', max_depth=20)\n",
    "vc_lr_gnb = VotingClassifier(estimators=[('lr',  LogisticRegression(solver = 'lbfgs', multi_class = 'multinomial')), \\\n",
    "                                         ('gnb', GaussianNB())], voting='soft', weights=[1, 1])\n",
    "bc_vc_lr_qda_gnb = BaggingClassifier(base_estimator=vc_lr_gnb, n_estimators=100, \\\n",
    "                                  bootstrap=True, bootstrap_features=True)\n",
    "rc_d20_e1000 = RandomForestClassifier(max_depth=20, n_estimators=1000)\n",
    "etc_m10_e500 = ExtraTreesClassifier(max_depth=10, n_estimators=500)\n",
    "ab = AdaBoostClassifier(DecisionTreeClassifier(max_depth=5, random_state=0), \n",
    "                               algorithm=\"SAMME\", n_estimators=100)\n",
    "gc_d10_e100 = GradientBoostingClassifier(n_estimators=100, max_depth=10)\n",
    "xb = xgboost.XGBClassifier(n_estimators=100, max_depth=10)\n",
    "pt_iter500 = Perceptron(max_iter=500, eta0=0.1)\n",
    "sgdc_ll_iter1000 = SGDClassifier(loss=\"log\", max_iter=1000)\n",
    "svc_c3_4_lin = SVC(C=0.75, kernel='linear')"
   ]
  },
  {
   "cell_type": "code",
   "execution_count": 56,
   "metadata": {
    "collapsed": true
   },
   "outputs": [],
   "source": [
    "# x should be positive : ['qda', qda],['mnb', mnb], ['mnb_al2', mnb_al2],\n",
    "    \n",
    "model_lst1 = [    \n",
    "    ['gnb', gnb],\n",
    "    ['lg', lg],\n",
    "    ['lg_lbf_mul', lg_lbf_mul],\n",
    "    ['dt_d10', dt_d10],\n",
    "    ['dt_d20', dt_d20],\n",
    "    ['vc_lr_gnb', vc_lr_gnb],    \n",
    "    ['rc_d20_e1000', rc_d20_e1000],\n",
    "    ['etc_m10_e500', etc_m10_e500],\n",
    "    ['ab', ab],\n",
    "    ['gc_d10_e100', gc_d10_e100 ],\n",
    "    ['xb', xb],\n",
    "    ['pt_iter500', pt_iter500],\n",
    "    ['sgdc_ll_iter1000', sgdc_ll_iter1000],\n",
    "    ['svc_c3_4_lin', svc_c3_4_lin]    \n",
    "]"
   ]
  },
  {
   "cell_type": "code",
   "execution_count": 57,
   "metadata": {
    "scrolled": true
   },
   "outputs": [
    {
     "name": "stdout",
     "output_type": "stream",
     "text": [
      "==================================================\n",
      "Model :  gnb\n",
      "[ 0.61111111  0.57575758  0.50505051  0.55555556  0.52525253]\n",
      "==================================================\n",
      "Model :  lg\n",
      "[ 0.98989899  0.99494949  0.98484848  0.98484848  0.99494949]\n",
      "==================================================\n",
      "Model :  lg_lbf_mul\n",
      "[ 0.98484848  0.99494949  0.97979798  0.98989899  0.99494949]\n",
      "==================================================\n",
      "Model :  dt_d10\n",
      "[ 0.65656566  0.72727273  0.68181818  0.71717172  0.73232323]\n",
      "==================================================\n",
      "Model :  dt_d20\n",
      "[ 0.69191919  0.71717172  0.65656566  0.67676768  0.74747475]\n",
      "==================================================\n",
      "Model :  vc_lr_gnb\n",
      "[ 0.61111111  0.58585859  0.51010101  0.55555556  0.52525253]\n",
      "==================================================\n",
      "Model :  rc_d20_e1000\n",
      "[ 0.98989899  0.99494949  1.          0.98484848  0.98989899]\n",
      "==================================================\n",
      "Model :  etc_m10_e500\n",
      "[ 0.98989899  0.97474747  0.98484848  0.98989899  0.98989899]\n",
      "==================================================\n",
      "Model :  ab\n",
      "[ 0.5         0.35858586  0.44949495  0.44949495  0.55050505]\n",
      "==================================================\n",
      "Model :  gc_d10_e100\n",
      "[ 0.62121212  0.68686869  0.64141414  0.5959596   0.66666667]\n",
      "==================================================\n",
      "Model :  xb\n",
      "[ 0.88383838  0.92929293  0.88888889  0.88888889  0.91919192]\n",
      "==================================================\n",
      "Model :  pt_iter500\n",
      "[ 0.94444444  0.95959596  0.93939394  0.93939394  0.93939394]\n",
      "==================================================\n",
      "Model :  sgdc_ll_iter1000\n",
      "[ 0.93939394  0.96969697  0.94949495  0.94444444  0.96969697]\n",
      "==================================================\n",
      "Model :  svc_c3_4_lin\n",
      "[ 0.98989899  0.98989899  0.97979798  0.98989899  1.        ]\n"
     ]
    }
   ],
   "source": [
    "for model in model_lst1:\n",
    "    print('='*50)\n",
    "    print('Model : ', model[0])\n",
    "    print(cross_val_score(model[1], dfX, dfy, scoring='accuracy', cv=5))"
   ]
  },
  {
   "cell_type": "code",
   "execution_count": 62,
   "metadata": {
    "collapsed": true
   },
   "outputs": [],
   "source": [
    "# infinity error : ['bc_vc_lr_qda_gnb', bc_vc_lr_qda_gnb],\n",
    "\n",
    "model_lst2 = [        \n",
    "    ['rc_d20_e1000', rc_d20_e1000],\n",
    "    ['etc_m10_e500', etc_m10_e500],\n",
    "    ['ab', ab],\n",
    "    ['gc_d10_e100', gc_d10_e100 ],\n",
    "    ['xb', xb]\n",
    "]"
   ]
  },
  {
   "cell_type": "code",
   "execution_count": 63,
   "metadata": {},
   "outputs": [
    {
     "name": "stdout",
     "output_type": "stream",
     "text": [
      "==================================================\n",
      "Model :  rc_d20_e1000\n",
      "[-0.80814202 -0.81441718 -0.80621068 -0.7857789  -0.77828115]\n",
      "==================================================\n",
      "Model :  etc_m10_e500\n",
      "[-1.05303677 -1.06316107 -1.05702358 -1.04137103 -1.02471395]\n",
      "==================================================\n",
      "Model :  ab\n",
      "[-4.59450667 -4.59455641 -4.59453783 -4.59454239 -4.59449793]\n",
      "==================================================\n",
      "Model :  gc_d10_e100\n",
      "[-2.91817731 -2.22668715 -2.7160512  -3.13313832 -2.40614467]\n",
      "==================================================\n",
      "Model :  xb\n",
      "[-0.72302286 -0.66196963 -0.75339942 -0.81351869 -0.62569089]\n"
     ]
    }
   ],
   "source": [
    "for model in model_lst2:\n",
    "    print('='*50)\n",
    "    print('Model : ', model[0])\n",
    "    print(cross_val_score(model[1], dfX, dfy, scoring='neg_log_loss', cv=5))"
   ]
  },
  {
   "cell_type": "markdown",
   "metadata": {},
   "source": [
    "### 2.1.2 Individual Model Optimizing : Model setting 2"
   ]
  },
  {
   "cell_type": "markdown",
   "metadata": {},
   "source": [
    "### target : feedback from random trial\n",
    "- lg_lbf_mul\n",
    "- rc_d20_e1000\n",
    "- etc_m10_e500 : 높은 수치를 보이나 랜덤포레스트와 유사성을 고려해 랜덤포레스트 하나로 테스트 진행\n",
    "- svc_c3_4_lin\n",
    "<pre>\n",
    "Model :  lg_lbf_mul\n",
    "[ 0.98484848  0.98989899  0.97979798  0.98989899  0.99494949]\n",
    "==================================================\n",
    "Model :  rc_d20_e1000\n",
    "[ 0.97474747  0.97979798  0.98484848  0.97979798  0.98484848]\n",
    "==================================================\n",
    "Model :  etc_m10_e500\n",
    "[ 0.97474747  0.96969697  0.96464646  0.97979798  0.98484848]\n",
    "==================================================\n",
    "Model :  svc_c3_4_lin\n",
    "[ 0.98989899  0.98989899  0.97979798  0.99494949  1.        ]\n",
    "</pre>"
   ]
  },
  {
   "cell_type": "markdown",
   "metadata": {},
   "source": [
    "###   \n",
    "### Logistic Regression\n",
    "###    "
   ]
  },
  {
   "cell_type": "markdown",
   "metadata": {},
   "source": [
    "> ** #Logistic 1 C, tol 값의 파라미터 조정 (GridSearch) **"
   ]
  },
  {
   "cell_type": "code",
   "execution_count": 64,
   "metadata": {},
   "outputs": [
    {
     "name": "stdout",
     "output_type": "stream",
     "text": [
      "CPU times: user 22min 18s, sys: 5min 11s, total: 27min 30s\n",
      "Wall time: 13min 46s\n"
     ]
    }
   ],
   "source": [
    "c_range = [0.0001, 0.001, 0.01, 0.1, 1.0, 10.0, 100.0, 1000.0]\n",
    "tol_range = [0.01, 0.001, 0.0005, 0.0001, 0.00005, 0.00001]\n",
    "param_grid = [\n",
    "    {'C': c_range, 'tol': tol_range}]\n",
    "\n",
    "gs = GridSearchCV(estimator=lg_lbf_mul, param_grid=param_grid, scoring='neg_log_loss', cv=10, n_jobs=1)\n",
    "%time gs = gs.fit(dfX, dfy)"
   ]
  },
  {
   "cell_type": "code",
   "execution_count": 65,
   "metadata": {},
   "outputs": [
    {
     "data": {
      "text/plain": [
       "{'C': 1000.0, 'tol': 0.0005}"
      ]
     },
     "execution_count": 65,
     "metadata": {},
     "output_type": "execute_result"
    }
   ],
   "source": [
    "gs.best_params_"
   ]
  },
  {
   "cell_type": "code",
   "execution_count": 66,
   "metadata": {},
   "outputs": [
    {
     "data": {
      "text/plain": [
       "-0.023513795248121843"
      ]
     },
     "execution_count": 66,
     "metadata": {},
     "output_type": "execute_result"
    }
   ],
   "source": [
    "gs.best_score_"
   ]
  },
  {
   "cell_type": "code",
   "execution_count": 67,
   "metadata": {},
   "outputs": [
    {
     "data": {
      "text/plain": [
       "LogisticRegression(C=1000.0, class_weight=None, dual=False,\n",
       "          fit_intercept=True, intercept_scaling=1, max_iter=100,\n",
       "          multi_class='multinomial', n_jobs=1, penalty='l2',\n",
       "          random_state=None, solver='lbfgs', tol=0.0005, verbose=0,\n",
       "          warm_start=False)"
      ]
     },
     "execution_count": 67,
     "metadata": {},
     "output_type": "execute_result"
    }
   ],
   "source": [
    "gs.best_estimator_"
   ]
  },
  {
   "cell_type": "markdown",
   "metadata": {},
   "source": [
    "> ** #Logistic 2 max_iter, solver 값의 파라미터 조정 (GridSearch) **"
   ]
  },
  {
   "cell_type": "code",
   "execution_count": 68,
   "metadata": {
    "collapsed": true
   },
   "outputs": [
    {
     "name": "stderr",
     "output_type": "stream",
     "text": [
      "/home/dockeruser/anaconda3/lib/python3.6/site-packages/sklearn/utils/optimize.py:203: ConvergenceWarning: newton-cg failed to converge. Increase the number of iterations.\n",
      "  \"number of iterations.\", ConvergenceWarning)\n",
      "/home/dockeruser/anaconda3/lib/python3.6/site-packages/sklearn/utils/optimize.py:203: ConvergenceWarning: newton-cg failed to converge. Increase the number of iterations.\n",
      "  \"number of iterations.\", ConvergenceWarning)\n",
      "/home/dockeruser/anaconda3/lib/python3.6/site-packages/sklearn/utils/optimize.py:203: ConvergenceWarning: newton-cg failed to converge. Increase the number of iterations.\n",
      "  \"number of iterations.\", ConvergenceWarning)\n",
      "/home/dockeruser/anaconda3/lib/python3.6/site-packages/sklearn/utils/optimize.py:203: ConvergenceWarning: newton-cg failed to converge. Increase the number of iterations.\n",
      "  \"number of iterations.\", ConvergenceWarning)\n",
      "/home/dockeruser/anaconda3/lib/python3.6/site-packages/sklearn/utils/optimize.py:203: ConvergenceWarning: newton-cg failed to converge. Increase the number of iterations.\n",
      "  \"number of iterations.\", ConvergenceWarning)\n",
      "/home/dockeruser/anaconda3/lib/python3.6/site-packages/sklearn/utils/optimize.py:203: ConvergenceWarning: newton-cg failed to converge. Increase the number of iterations.\n",
      "  \"number of iterations.\", ConvergenceWarning)\n",
      "/home/dockeruser/anaconda3/lib/python3.6/site-packages/sklearn/utils/optimize.py:203: ConvergenceWarning: newton-cg failed to converge. Increase the number of iterations.\n",
      "  \"number of iterations.\", ConvergenceWarning)\n",
      "/home/dockeruser/anaconda3/lib/python3.6/site-packages/sklearn/utils/optimize.py:203: ConvergenceWarning: newton-cg failed to converge. Increase the number of iterations.\n",
      "  \"number of iterations.\", ConvergenceWarning)\n",
      "/home/dockeruser/anaconda3/lib/python3.6/site-packages/sklearn/utils/optimize.py:203: ConvergenceWarning: newton-cg failed to converge. Increase the number of iterations.\n",
      "  \"number of iterations.\", ConvergenceWarning)\n",
      "/home/dockeruser/anaconda3/lib/python3.6/site-packages/sklearn/utils/optimize.py:203: ConvergenceWarning: newton-cg failed to converge. Increase the number of iterations.\n",
      "  \"number of iterations.\", ConvergenceWarning)\n",
      "/home/dockeruser/anaconda3/lib/python3.6/site-packages/sklearn/linear_model/sag.py:326: ConvergenceWarning: The max_iter was reached which means the coef_ did not converge\n",
      "  \"the coef_ did not converge\", ConvergenceWarning)\n",
      "/home/dockeruser/anaconda3/lib/python3.6/site-packages/sklearn/linear_model/sag.py:326: ConvergenceWarning: The max_iter was reached which means the coef_ did not converge\n",
      "  \"the coef_ did not converge\", ConvergenceWarning)\n",
      "/home/dockeruser/anaconda3/lib/python3.6/site-packages/sklearn/linear_model/sag.py:326: ConvergenceWarning: The max_iter was reached which means the coef_ did not converge\n",
      "  \"the coef_ did not converge\", ConvergenceWarning)\n",
      "/home/dockeruser/anaconda3/lib/python3.6/site-packages/sklearn/linear_model/sag.py:326: ConvergenceWarning: The max_iter was reached which means the coef_ did not converge\n",
      "  \"the coef_ did not converge\", ConvergenceWarning)\n",
      "/home/dockeruser/anaconda3/lib/python3.6/site-packages/sklearn/linear_model/sag.py:326: ConvergenceWarning: The max_iter was reached which means the coef_ did not converge\n",
      "  \"the coef_ did not converge\", ConvergenceWarning)\n",
      "/home/dockeruser/anaconda3/lib/python3.6/site-packages/sklearn/linear_model/sag.py:326: ConvergenceWarning: The max_iter was reached which means the coef_ did not converge\n",
      "  \"the coef_ did not converge\", ConvergenceWarning)\n",
      "/home/dockeruser/anaconda3/lib/python3.6/site-packages/sklearn/linear_model/sag.py:326: ConvergenceWarning: The max_iter was reached which means the coef_ did not converge\n",
      "  \"the coef_ did not converge\", ConvergenceWarning)\n",
      "/home/dockeruser/anaconda3/lib/python3.6/site-packages/sklearn/linear_model/sag.py:326: ConvergenceWarning: The max_iter was reached which means the coef_ did not converge\n",
      "  \"the coef_ did not converge\", ConvergenceWarning)\n",
      "/home/dockeruser/anaconda3/lib/python3.6/site-packages/sklearn/linear_model/sag.py:326: ConvergenceWarning: The max_iter was reached which means the coef_ did not converge\n",
      "  \"the coef_ did not converge\", ConvergenceWarning)\n",
      "/home/dockeruser/anaconda3/lib/python3.6/site-packages/sklearn/linear_model/sag.py:326: ConvergenceWarning: The max_iter was reached which means the coef_ did not converge\n",
      "  \"the coef_ did not converge\", ConvergenceWarning)\n",
      "/home/dockeruser/anaconda3/lib/python3.6/site-packages/sklearn/linear_model/sag.py:326: ConvergenceWarning: The max_iter was reached which means the coef_ did not converge\n",
      "  \"the coef_ did not converge\", ConvergenceWarning)\n",
      "/home/dockeruser/anaconda3/lib/python3.6/site-packages/sklearn/linear_model/sag.py:326: ConvergenceWarning: The max_iter was reached which means the coef_ did not converge\n",
      "  \"the coef_ did not converge\", ConvergenceWarning)\n",
      "/home/dockeruser/anaconda3/lib/python3.6/site-packages/sklearn/linear_model/sag.py:326: ConvergenceWarning: The max_iter was reached which means the coef_ did not converge\n",
      "  \"the coef_ did not converge\", ConvergenceWarning)\n",
      "/home/dockeruser/anaconda3/lib/python3.6/site-packages/sklearn/linear_model/sag.py:326: ConvergenceWarning: The max_iter was reached which means the coef_ did not converge\n",
      "  \"the coef_ did not converge\", ConvergenceWarning)\n",
      "/home/dockeruser/anaconda3/lib/python3.6/site-packages/sklearn/linear_model/sag.py:326: ConvergenceWarning: The max_iter was reached which means the coef_ did not converge\n",
      "  \"the coef_ did not converge\", ConvergenceWarning)\n",
      "/home/dockeruser/anaconda3/lib/python3.6/site-packages/sklearn/linear_model/sag.py:326: ConvergenceWarning: The max_iter was reached which means the coef_ did not converge\n",
      "  \"the coef_ did not converge\", ConvergenceWarning)\n",
      "/home/dockeruser/anaconda3/lib/python3.6/site-packages/sklearn/linear_model/sag.py:326: ConvergenceWarning: The max_iter was reached which means the coef_ did not converge\n",
      "  \"the coef_ did not converge\", ConvergenceWarning)\n",
      "/home/dockeruser/anaconda3/lib/python3.6/site-packages/sklearn/linear_model/sag.py:326: ConvergenceWarning: The max_iter was reached which means the coef_ did not converge\n",
      "  \"the coef_ did not converge\", ConvergenceWarning)\n",
      "/home/dockeruser/anaconda3/lib/python3.6/site-packages/sklearn/linear_model/sag.py:326: ConvergenceWarning: The max_iter was reached which means the coef_ did not converge\n",
      "  \"the coef_ did not converge\", ConvergenceWarning)\n",
      "/home/dockeruser/anaconda3/lib/python3.6/site-packages/sklearn/linear_model/sag.py:326: ConvergenceWarning: The max_iter was reached which means the coef_ did not converge\n",
      "  \"the coef_ did not converge\", ConvergenceWarning)\n",
      "/home/dockeruser/anaconda3/lib/python3.6/site-packages/sklearn/linear_model/sag.py:326: ConvergenceWarning: The max_iter was reached which means the coef_ did not converge\n",
      "  \"the coef_ did not converge\", ConvergenceWarning)\n",
      "/home/dockeruser/anaconda3/lib/python3.6/site-packages/sklearn/linear_model/sag.py:326: ConvergenceWarning: The max_iter was reached which means the coef_ did not converge\n",
      "  \"the coef_ did not converge\", ConvergenceWarning)\n",
      "/home/dockeruser/anaconda3/lib/python3.6/site-packages/sklearn/linear_model/sag.py:326: ConvergenceWarning: The max_iter was reached which means the coef_ did not converge\n",
      "  \"the coef_ did not converge\", ConvergenceWarning)\n",
      "/home/dockeruser/anaconda3/lib/python3.6/site-packages/sklearn/linear_model/sag.py:326: ConvergenceWarning: The max_iter was reached which means the coef_ did not converge\n",
      "  \"the coef_ did not converge\", ConvergenceWarning)\n",
      "/home/dockeruser/anaconda3/lib/python3.6/site-packages/sklearn/linear_model/sag.py:326: ConvergenceWarning: The max_iter was reached which means the coef_ did not converge\n",
      "  \"the coef_ did not converge\", ConvergenceWarning)\n",
      "/home/dockeruser/anaconda3/lib/python3.6/site-packages/sklearn/linear_model/sag.py:326: ConvergenceWarning: The max_iter was reached which means the coef_ did not converge\n",
      "  \"the coef_ did not converge\", ConvergenceWarning)\n",
      "/home/dockeruser/anaconda3/lib/python3.6/site-packages/sklearn/linear_model/sag.py:326: ConvergenceWarning: The max_iter was reached which means the coef_ did not converge\n",
      "  \"the coef_ did not converge\", ConvergenceWarning)\n"
     ]
    },
    {
     "name": "stderr",
     "output_type": "stream",
     "text": [
      "/home/dockeruser/anaconda3/lib/python3.6/site-packages/sklearn/linear_model/sag.py:326: ConvergenceWarning: The max_iter was reached which means the coef_ did not converge\n",
      "  \"the coef_ did not converge\", ConvergenceWarning)\n",
      "/home/dockeruser/anaconda3/lib/python3.6/site-packages/sklearn/linear_model/sag.py:326: ConvergenceWarning: The max_iter was reached which means the coef_ did not converge\n",
      "  \"the coef_ did not converge\", ConvergenceWarning)\n",
      "/home/dockeruser/anaconda3/lib/python3.6/site-packages/sklearn/linear_model/sag.py:326: ConvergenceWarning: The max_iter was reached which means the coef_ did not converge\n",
      "  \"the coef_ did not converge\", ConvergenceWarning)\n",
      "/home/dockeruser/anaconda3/lib/python3.6/site-packages/sklearn/linear_model/sag.py:326: ConvergenceWarning: The max_iter was reached which means the coef_ did not converge\n",
      "  \"the coef_ did not converge\", ConvergenceWarning)\n",
      "/home/dockeruser/anaconda3/lib/python3.6/site-packages/sklearn/linear_model/sag.py:326: ConvergenceWarning: The max_iter was reached which means the coef_ did not converge\n",
      "  \"the coef_ did not converge\", ConvergenceWarning)\n",
      "/home/dockeruser/anaconda3/lib/python3.6/site-packages/sklearn/linear_model/sag.py:326: ConvergenceWarning: The max_iter was reached which means the coef_ did not converge\n",
      "  \"the coef_ did not converge\", ConvergenceWarning)\n",
      "/home/dockeruser/anaconda3/lib/python3.6/site-packages/sklearn/linear_model/sag.py:326: ConvergenceWarning: The max_iter was reached which means the coef_ did not converge\n",
      "  \"the coef_ did not converge\", ConvergenceWarning)\n",
      "/home/dockeruser/anaconda3/lib/python3.6/site-packages/sklearn/linear_model/sag.py:326: ConvergenceWarning: The max_iter was reached which means the coef_ did not converge\n",
      "  \"the coef_ did not converge\", ConvergenceWarning)\n",
      "/home/dockeruser/anaconda3/lib/python3.6/site-packages/sklearn/linear_model/sag.py:326: ConvergenceWarning: The max_iter was reached which means the coef_ did not converge\n",
      "  \"the coef_ did not converge\", ConvergenceWarning)\n",
      "/home/dockeruser/anaconda3/lib/python3.6/site-packages/sklearn/linear_model/sag.py:326: ConvergenceWarning: The max_iter was reached which means the coef_ did not converge\n",
      "  \"the coef_ did not converge\", ConvergenceWarning)\n",
      "/home/dockeruser/anaconda3/lib/python3.6/site-packages/sklearn/linear_model/sag.py:326: ConvergenceWarning: The max_iter was reached which means the coef_ did not converge\n",
      "  \"the coef_ did not converge\", ConvergenceWarning)\n",
      "/home/dockeruser/anaconda3/lib/python3.6/site-packages/sklearn/linear_model/sag.py:326: ConvergenceWarning: The max_iter was reached which means the coef_ did not converge\n",
      "  \"the coef_ did not converge\", ConvergenceWarning)\n",
      "/home/dockeruser/anaconda3/lib/python3.6/site-packages/sklearn/linear_model/sag.py:326: ConvergenceWarning: The max_iter was reached which means the coef_ did not converge\n",
      "  \"the coef_ did not converge\", ConvergenceWarning)\n",
      "/home/dockeruser/anaconda3/lib/python3.6/site-packages/sklearn/linear_model/sag.py:326: ConvergenceWarning: The max_iter was reached which means the coef_ did not converge\n",
      "  \"the coef_ did not converge\", ConvergenceWarning)\n",
      "/home/dockeruser/anaconda3/lib/python3.6/site-packages/sklearn/linear_model/sag.py:326: ConvergenceWarning: The max_iter was reached which means the coef_ did not converge\n",
      "  \"the coef_ did not converge\", ConvergenceWarning)\n",
      "/home/dockeruser/anaconda3/lib/python3.6/site-packages/sklearn/linear_model/sag.py:326: ConvergenceWarning: The max_iter was reached which means the coef_ did not converge\n",
      "  \"the coef_ did not converge\", ConvergenceWarning)\n",
      "/home/dockeruser/anaconda3/lib/python3.6/site-packages/sklearn/linear_model/sag.py:326: ConvergenceWarning: The max_iter was reached which means the coef_ did not converge\n",
      "  \"the coef_ did not converge\", ConvergenceWarning)\n",
      "/home/dockeruser/anaconda3/lib/python3.6/site-packages/sklearn/linear_model/sag.py:326: ConvergenceWarning: The max_iter was reached which means the coef_ did not converge\n",
      "  \"the coef_ did not converge\", ConvergenceWarning)\n",
      "/home/dockeruser/anaconda3/lib/python3.6/site-packages/sklearn/linear_model/sag.py:326: ConvergenceWarning: The max_iter was reached which means the coef_ did not converge\n",
      "  \"the coef_ did not converge\", ConvergenceWarning)\n",
      "/home/dockeruser/anaconda3/lib/python3.6/site-packages/sklearn/linear_model/sag.py:326: ConvergenceWarning: The max_iter was reached which means the coef_ did not converge\n",
      "  \"the coef_ did not converge\", ConvergenceWarning)\n",
      "/home/dockeruser/anaconda3/lib/python3.6/site-packages/sklearn/linear_model/sag.py:326: ConvergenceWarning: The max_iter was reached which means the coef_ did not converge\n",
      "  \"the coef_ did not converge\", ConvergenceWarning)\n",
      "/home/dockeruser/anaconda3/lib/python3.6/site-packages/sklearn/linear_model/sag.py:326: ConvergenceWarning: The max_iter was reached which means the coef_ did not converge\n",
      "  \"the coef_ did not converge\", ConvergenceWarning)\n",
      "/home/dockeruser/anaconda3/lib/python3.6/site-packages/sklearn/linear_model/sag.py:326: ConvergenceWarning: The max_iter was reached which means the coef_ did not converge\n",
      "  \"the coef_ did not converge\", ConvergenceWarning)\n",
      "/home/dockeruser/anaconda3/lib/python3.6/site-packages/sklearn/linear_model/sag.py:326: ConvergenceWarning: The max_iter was reached which means the coef_ did not converge\n",
      "  \"the coef_ did not converge\", ConvergenceWarning)\n",
      "/home/dockeruser/anaconda3/lib/python3.6/site-packages/sklearn/linear_model/sag.py:326: ConvergenceWarning: The max_iter was reached which means the coef_ did not converge\n",
      "  \"the coef_ did not converge\", ConvergenceWarning)\n",
      "/home/dockeruser/anaconda3/lib/python3.6/site-packages/sklearn/linear_model/sag.py:326: ConvergenceWarning: The max_iter was reached which means the coef_ did not converge\n",
      "  \"the coef_ did not converge\", ConvergenceWarning)\n",
      "/home/dockeruser/anaconda3/lib/python3.6/site-packages/sklearn/linear_model/sag.py:326: ConvergenceWarning: The max_iter was reached which means the coef_ did not converge\n",
      "  \"the coef_ did not converge\", ConvergenceWarning)\n",
      "/home/dockeruser/anaconda3/lib/python3.6/site-packages/sklearn/linear_model/sag.py:326: ConvergenceWarning: The max_iter was reached which means the coef_ did not converge\n",
      "  \"the coef_ did not converge\", ConvergenceWarning)\n",
      "/home/dockeruser/anaconda3/lib/python3.6/site-packages/sklearn/linear_model/sag.py:326: ConvergenceWarning: The max_iter was reached which means the coef_ did not converge\n",
      "  \"the coef_ did not converge\", ConvergenceWarning)\n",
      "/home/dockeruser/anaconda3/lib/python3.6/site-packages/sklearn/linear_model/sag.py:326: ConvergenceWarning: The max_iter was reached which means the coef_ did not converge\n",
      "  \"the coef_ did not converge\", ConvergenceWarning)\n",
      "/home/dockeruser/anaconda3/lib/python3.6/site-packages/sklearn/linear_model/sag.py:326: ConvergenceWarning: The max_iter was reached which means the coef_ did not converge\n",
      "  \"the coef_ did not converge\", ConvergenceWarning)\n",
      "/home/dockeruser/anaconda3/lib/python3.6/site-packages/sklearn/linear_model/sag.py:326: ConvergenceWarning: The max_iter was reached which means the coef_ did not converge\n",
      "  \"the coef_ did not converge\", ConvergenceWarning)\n",
      "/home/dockeruser/anaconda3/lib/python3.6/site-packages/sklearn/linear_model/sag.py:326: ConvergenceWarning: The max_iter was reached which means the coef_ did not converge\n",
      "  \"the coef_ did not converge\", ConvergenceWarning)\n",
      "/home/dockeruser/anaconda3/lib/python3.6/site-packages/sklearn/linear_model/sag.py:326: ConvergenceWarning: The max_iter was reached which means the coef_ did not converge\n",
      "  \"the coef_ did not converge\", ConvergenceWarning)\n",
      "/home/dockeruser/anaconda3/lib/python3.6/site-packages/sklearn/linear_model/sag.py:326: ConvergenceWarning: The max_iter was reached which means the coef_ did not converge\n",
      "  \"the coef_ did not converge\", ConvergenceWarning)\n",
      "/home/dockeruser/anaconda3/lib/python3.6/site-packages/sklearn/linear_model/sag.py:326: ConvergenceWarning: The max_iter was reached which means the coef_ did not converge\n",
      "  \"the coef_ did not converge\", ConvergenceWarning)\n",
      "/home/dockeruser/anaconda3/lib/python3.6/site-packages/sklearn/linear_model/sag.py:326: ConvergenceWarning: The max_iter was reached which means the coef_ did not converge\n",
      "  \"the coef_ did not converge\", ConvergenceWarning)\n"
     ]
    },
    {
     "name": "stderr",
     "output_type": "stream",
     "text": [
      "/home/dockeruser/anaconda3/lib/python3.6/site-packages/sklearn/linear_model/sag.py:326: ConvergenceWarning: The max_iter was reached which means the coef_ did not converge\n",
      "  \"the coef_ did not converge\", ConvergenceWarning)\n",
      "/home/dockeruser/anaconda3/lib/python3.6/site-packages/sklearn/linear_model/sag.py:326: ConvergenceWarning: The max_iter was reached which means the coef_ did not converge\n",
      "  \"the coef_ did not converge\", ConvergenceWarning)\n",
      "/home/dockeruser/anaconda3/lib/python3.6/site-packages/sklearn/linear_model/sag.py:326: ConvergenceWarning: The max_iter was reached which means the coef_ did not converge\n",
      "  \"the coef_ did not converge\", ConvergenceWarning)\n",
      "/home/dockeruser/anaconda3/lib/python3.6/site-packages/sklearn/linear_model/sag.py:326: ConvergenceWarning: The max_iter was reached which means the coef_ did not converge\n",
      "  \"the coef_ did not converge\", ConvergenceWarning)\n",
      "/home/dockeruser/anaconda3/lib/python3.6/site-packages/sklearn/linear_model/sag.py:326: ConvergenceWarning: The max_iter was reached which means the coef_ did not converge\n",
      "  \"the coef_ did not converge\", ConvergenceWarning)\n",
      "/home/dockeruser/anaconda3/lib/python3.6/site-packages/sklearn/linear_model/sag.py:326: ConvergenceWarning: The max_iter was reached which means the coef_ did not converge\n",
      "  \"the coef_ did not converge\", ConvergenceWarning)\n",
      "/home/dockeruser/anaconda3/lib/python3.6/site-packages/sklearn/linear_model/sag.py:326: ConvergenceWarning: The max_iter was reached which means the coef_ did not converge\n",
      "  \"the coef_ did not converge\", ConvergenceWarning)\n",
      "/home/dockeruser/anaconda3/lib/python3.6/site-packages/sklearn/linear_model/sag.py:326: ConvergenceWarning: The max_iter was reached which means the coef_ did not converge\n",
      "  \"the coef_ did not converge\", ConvergenceWarning)\n",
      "/home/dockeruser/anaconda3/lib/python3.6/site-packages/sklearn/linear_model/sag.py:326: ConvergenceWarning: The max_iter was reached which means the coef_ did not converge\n",
      "  \"the coef_ did not converge\", ConvergenceWarning)\n",
      "/home/dockeruser/anaconda3/lib/python3.6/site-packages/sklearn/linear_model/sag.py:326: ConvergenceWarning: The max_iter was reached which means the coef_ did not converge\n",
      "  \"the coef_ did not converge\", ConvergenceWarning)\n",
      "/home/dockeruser/anaconda3/lib/python3.6/site-packages/sklearn/linear_model/sag.py:326: ConvergenceWarning: The max_iter was reached which means the coef_ did not converge\n",
      "  \"the coef_ did not converge\", ConvergenceWarning)\n",
      "/home/dockeruser/anaconda3/lib/python3.6/site-packages/sklearn/linear_model/sag.py:326: ConvergenceWarning: The max_iter was reached which means the coef_ did not converge\n",
      "  \"the coef_ did not converge\", ConvergenceWarning)\n",
      "/home/dockeruser/anaconda3/lib/python3.6/site-packages/sklearn/linear_model/sag.py:326: ConvergenceWarning: The max_iter was reached which means the coef_ did not converge\n",
      "  \"the coef_ did not converge\", ConvergenceWarning)\n",
      "/home/dockeruser/anaconda3/lib/python3.6/site-packages/sklearn/linear_model/sag.py:326: ConvergenceWarning: The max_iter was reached which means the coef_ did not converge\n",
      "  \"the coef_ did not converge\", ConvergenceWarning)\n",
      "/home/dockeruser/anaconda3/lib/python3.6/site-packages/sklearn/linear_model/sag.py:326: ConvergenceWarning: The max_iter was reached which means the coef_ did not converge\n",
      "  \"the coef_ did not converge\", ConvergenceWarning)\n",
      "/home/dockeruser/anaconda3/lib/python3.6/site-packages/sklearn/linear_model/sag.py:326: ConvergenceWarning: The max_iter was reached which means the coef_ did not converge\n",
      "  \"the coef_ did not converge\", ConvergenceWarning)\n"
     ]
    },
    {
     "name": "stdout",
     "output_type": "stream",
     "text": [
      "CPU times: user 4.37 s, sys: 580 ms, total: 4.95 s\n",
      "Wall time: 25min 14s\n"
     ]
    }
   ],
   "source": [
    "max_iter_range = [10, 50, 100, 250, 500, 1000]\n",
    "solver_range = ['newton-cg', 'sag', 'saga','lbfgs']\n",
    "param_grid = [\n",
    "    {'max_iter': max_iter_range, 'solver': solver_range}]\n",
    "\\\n",
    "gs = GridSearchCV(estimator=LogisticRegression(C=1000.0, tol=0.0005, class_weight='balanced', \\\n",
    "                                   multi_class = 'multinomial'), param_grid=param_grid, scoring='neg_log_loss', cv=10, n_jobs=2)\n",
    "%time gs = gs.fit(dfX, dfy)"
   ]
  },
  {
   "cell_type": "code",
   "execution_count": 69,
   "metadata": {},
   "outputs": [
    {
     "data": {
      "text/plain": [
       "{'max_iter': 50, 'solver': 'lbfgs'}"
      ]
     },
     "execution_count": 69,
     "metadata": {},
     "output_type": "execute_result"
    }
   ],
   "source": [
    "gs.best_params_"
   ]
  },
  {
   "cell_type": "code",
   "execution_count": 70,
   "metadata": {},
   "outputs": [
    {
     "data": {
      "text/plain": [
       "LogisticRegression(C=1000.0, class_weight='balanced', dual=False,\n",
       "          fit_intercept=True, intercept_scaling=1, max_iter=50,\n",
       "          multi_class='multinomial', n_jobs=1, penalty='l2',\n",
       "          random_state=None, solver='lbfgs', tol=0.0005, verbose=0,\n",
       "          warm_start=False)"
      ]
     },
     "execution_count": 70,
     "metadata": {},
     "output_type": "execute_result"
    }
   ],
   "source": [
    "gs.best_estimator_"
   ]
  },
  {
   "cell_type": "code",
   "execution_count": 71,
   "metadata": {},
   "outputs": [
    {
     "data": {
      "text/plain": [
       "-0.023513795248121843"
      ]
     },
     "execution_count": 71,
     "metadata": {},
     "output_type": "execute_result"
    }
   ],
   "source": [
    "gs.best_score_"
   ]
  },
  {
   "cell_type": "code",
   "execution_count": 72,
   "metadata": {},
   "outputs": [
    {
     "data": {
      "text/plain": [
       "array([-0.03641821, -0.05310023, -0.0017553 , -0.02283575, -0.02936882,\n",
       "       -0.02819559, -0.05269968, -0.00381452, -0.00214615, -0.00480371])"
      ]
     },
     "execution_count": 72,
     "metadata": {},
     "output_type": "execute_result"
    }
   ],
   "source": [
    "cross_val_score(LogisticRegression(C=1000.0, tol=0.0005, class_weight='balanced', solver = 'lbfgs', \\\n",
    "                                   multi_class = 'multinomial'), dfX, dfy, scoring='neg_log_loss', cv=10)"
   ]
  },
  {
   "cell_type": "code",
   "execution_count": 73,
   "metadata": {},
   "outputs": [
    {
     "data": {
      "text/plain": [
       "-0.028303732000000005"
      ]
     },
     "execution_count": 73,
     "metadata": {},
     "output_type": "execute_result"
    }
   ],
   "source": [
    "np.mean([-0.03489582, -0.05826356, -0.00325292, -0.0303004 , -0.0360238, \\\n",
    "       -0.03659564, -0.06344875, -0.00448745, -0.00415521, -0.01161377])"
   ]
  },
  {
   "cell_type": "markdown",
   "metadata": {},
   "source": [
    "> ** #Logistic 3 C 광범위한 값의 파라미터 조정 (GridSearch) **"
   ]
  },
  {
   "cell_type": "code",
   "execution_count": 74,
   "metadata": {},
   "outputs": [
    {
     "name": "stdout",
     "output_type": "stream",
     "text": [
      "CPU times: user 2.44 s, sys: 390 ms, total: 2.83 s\n",
      "Wall time: 1min 10s\n"
     ]
    }
   ],
   "source": [
    "c_range = [1000, 1200, 1500, 2000, 2500, 3000, 5000]\n",
    "param_grid = [\n",
    "    {'C': c_range}]\n",
    "\n",
    "gs = GridSearchCV(estimator=LogisticRegression(tol=0.0005, class_weight='balanced', solver='lbfgs',\\\n",
    "                                   multi_class = 'multinomial'), param_grid=param_grid, scoring='neg_log_loss', cv=10, n_jobs=2)\n",
    "%time gs = gs.fit(dfX, dfy)"
   ]
  },
  {
   "cell_type": "code",
   "execution_count": 75,
   "metadata": {},
   "outputs": [
    {
     "data": {
      "text/plain": [
       "{'C': 1500}"
      ]
     },
     "execution_count": 75,
     "metadata": {},
     "output_type": "execute_result"
    }
   ],
   "source": [
    "gs.best_params_ # try [800, 900, 1000, 1200, 1500, 2000]"
   ]
  },
  {
   "cell_type": "code",
   "execution_count": 76,
   "metadata": {},
   "outputs": [
    {
     "data": {
      "text/plain": [
       "-0.021646122699775804"
      ]
     },
     "execution_count": 76,
     "metadata": {},
     "output_type": "execute_result"
    }
   ],
   "source": [
    "gs.best_score_"
   ]
  },
  {
   "cell_type": "markdown",
   "metadata": {},
   "source": [
    "> ** #Logistic 4 C, tol 미세조정 및 광범위한 값의 파라미터 조정 (GridSearch) **"
   ]
  },
  {
   "cell_type": "code",
   "execution_count": 80,
   "metadata": {},
   "outputs": [
    {
     "name": "stdout",
     "output_type": "stream",
     "text": [
      "CPU times: user 6.66 s, sys: 1.18 s, total: 7.84 s\n",
      "Wall time: 9min 30s\n"
     ]
    }
   ],
   "source": [
    "c_range = [1400, 1500, 1600, 1700]\n",
    "tol_range = [0.5, 0.1, 0.01, 0.001, 0.0001, 0.00001, 0.000001, 0.0000001, 0.00000001]\n",
    "param_grid = [\n",
    "    {'C': c_range, 'tol': tol_range}]\n",
    "\n",
    "model = LogisticRegression(class_weight='balanced', solver = 'lbfgs', multi_class = 'multinomial')\n",
    "\n",
    "gs = GridSearchCV(estimator=model, param_grid=param_grid, scoring='neg_log_loss', cv=10, n_jobs=2)\n",
    "%time gs = gs.fit(dfX, dfy)"
   ]
  },
  {
   "cell_type": "code",
   "execution_count": 81,
   "metadata": {},
   "outputs": [
    {
     "data": {
      "text/plain": [
       "{'C': 1500, 'tol': 0.0001}"
      ]
     },
     "execution_count": 81,
     "metadata": {},
     "output_type": "execute_result"
    }
   ],
   "source": [
    "gs.best_params_"
   ]
  },
  {
   "cell_type": "code",
   "execution_count": 82,
   "metadata": {},
   "outputs": [
    {
     "data": {
      "text/plain": [
       "-0.022932987685966296"
      ]
     },
     "execution_count": 82,
     "metadata": {},
     "output_type": "execute_result"
    }
   ],
   "source": [
    "gs.best_score_"
   ]
  },
  {
   "cell_type": "markdown",
   "metadata": {},
   "source": [
    "> ** #Logistic 5 C, tol 미세조정 및 광범위한 값의 파라미터 조정 (GridSearch) **"
   ]
  },
  {
   "cell_type": "code",
   "execution_count": 13,
   "metadata": {},
   "outputs": [
    {
     "name": "stdout",
     "output_type": "stream",
     "text": [
      "CPU times: user 5.15 s, sys: 560 ms, total: 5.71 s\n",
      "Wall time: 11min 34s\n"
     ]
    }
   ],
   "source": [
    "c_range =[10, 100, 1000, 5000, 10000, 100000, 1000000]\n",
    "tol_range = [0.00047, 0.00048, 0.00049, 0.00051, 0.00052, 0.00053, 0.00055]\n",
    "param_grid = [\n",
    "    {'C': c_range, 'tol': tol_range}]\n",
    "\n",
    "model = LogisticRegression(class_weight='balanced', solver = 'lbfgs', multi_class = 'multinomial')\n",
    "\n",
    "gs = GridSearchCV(estimator=model, param_grid=param_grid, scoring='neg_log_loss', cv=10, n_jobs=2)\n",
    "%time gs = gs.fit(dfX, dfy)"
   ]
  },
  {
   "cell_type": "code",
   "execution_count": 14,
   "metadata": {},
   "outputs": [
    {
     "data": {
      "text/plain": [
       "-0.025514394083076535"
      ]
     },
     "execution_count": 14,
     "metadata": {},
     "output_type": "execute_result"
    }
   ],
   "source": [
    "gs.best_score_"
   ]
  },
  {
   "cell_type": "code",
   "execution_count": 15,
   "metadata": {},
   "outputs": [
    {
     "data": {
      "text/plain": [
       "{'C': 2100, 'tol': 0.00052}"
      ]
     },
     "execution_count": 15,
     "metadata": {},
     "output_type": "execute_result"
    }
   ],
   "source": [
    "gs.best_params_"
   ]
  },
  {
   "cell_type": "markdown",
   "metadata": {
    "collapsed": true
   },
   "source": [
    "> ** #Logistic 6 확인 **"
   ]
  },
  {
   "cell_type": "code",
   "execution_count": 19,
   "metadata": {},
   "outputs": [
    {
     "data": {
      "text/plain": [
       "array([-0.03302893, -0.06771728, -0.00163054, -0.02373579, -0.02765635,\n",
       "       -0.03988058, -0.0485986 , -0.00286329, -0.00260534, -0.0062947 ])"
      ]
     },
     "execution_count": 19,
     "metadata": {},
     "output_type": "execute_result"
    }
   ],
   "source": [
    "cross_val_score(LogisticRegression(C=2100.0, tol=0.00052, class_weight='balanced', solver = 'lbfgs', \\\n",
    "                                   multi_class = 'multinomial'), dfX, dfy, scoring='neg_log_loss', cv=10)"
   ]
  },
  {
   "cell_type": "markdown",
   "metadata": {},
   "source": [
    "###    \n",
    "### Random Forest\n",
    "###    "
   ]
  },
  {
   "cell_type": "markdown",
   "metadata": {},
   "source": [
    "> ** #Random F 1 max_depth, estimators 조정 **"
   ]
  },
  {
   "cell_type": "code",
   "execution_count": 13,
   "metadata": {},
   "outputs": [
    {
     "name": "stdout",
     "output_type": "stream",
     "text": [
      "CPU times: user 44.3 s, sys: 290 ms, total: 44.6 s\n",
      "Wall time: 29min 20s\n"
     ]
    }
   ],
   "source": [
    "max_depth_range = [3, 4, 5, 6, 10, 20]\n",
    "n_estimators_range = [10, 50, 100, 200, 245, 500, 1000]\n",
    "criterion_range = ['gini', 'entropy']\n",
    "param_grid = [\n",
    "    {'max_depth': max_depth_range, 'n_estimators': n_estimators_range, 'criterion': criterion_range}]\n",
    "\n",
    "gs = GridSearchCV(estimator=RandomForestClassifier(), param_grid=param_grid, scoring='neg_log_loss', cv=6, n_jobs=2)\n",
    "%time gs = gs.fit(dfX, dfy)"
   ]
  },
  {
   "cell_type": "code",
   "execution_count": 14,
   "metadata": {
    "scrolled": true
   },
   "outputs": [
    {
     "data": {
      "text/plain": [
       "{'criterion': 'entropy', 'max_depth': 20, 'n_estimators': 1000}"
      ]
     },
     "execution_count": 14,
     "metadata": {},
     "output_type": "execute_result"
    }
   ],
   "source": [
    "gs.best_params_"
   ]
  },
  {
   "cell_type": "code",
   "execution_count": 15,
   "metadata": {},
   "outputs": [
    {
     "data": {
      "text/plain": [
       "-0.7923457206721614"
      ]
     },
     "execution_count": 15,
     "metadata": {},
     "output_type": "execute_result"
    }
   ],
   "source": [
    "gs.best_score_"
   ]
  },
  {
   "cell_type": "code",
   "execution_count": 16,
   "metadata": {},
   "outputs": [
    {
     "data": {
      "text/plain": [
       "RandomForestClassifier(bootstrap=True, class_weight=None, criterion='entropy',\n",
       "            max_depth=20, max_features='auto', max_leaf_nodes=None,\n",
       "            min_impurity_decrease=0.0, min_impurity_split=None,\n",
       "            min_samples_leaf=1, min_samples_split=2,\n",
       "            min_weight_fraction_leaf=0.0, n_estimators=1000, n_jobs=1,\n",
       "            oob_score=False, random_state=None, verbose=0,\n",
       "            warm_start=False)"
      ]
     },
     "execution_count": 16,
     "metadata": {},
     "output_type": "execute_result"
    }
   ],
   "source": [
    "gs.best_estimator_"
   ]
  },
  {
   "cell_type": "markdown",
   "metadata": {},
   "source": [
    "> ** #Random F 2 estimators, class_weight 조정 **"
   ]
  },
  {
   "cell_type": "code",
   "execution_count": 6,
   "metadata": {},
   "outputs": [
    {
     "name": "stdout",
     "output_type": "stream",
     "text": [
      "CPU times: user 39.4 s, sys: 250 ms, total: 39.6 s\n",
      "Wall time: 9min 28s\n"
     ]
    }
   ],
   "source": [
    "max_depth_range = [20]\n",
    "n_estimators_range = [800, 1000, 1200, 1500]\n",
    "class_weight_range = ['balanced']\n",
    "\n",
    "param_grid = [\n",
    "    {'max_depth': max_depth_range, 'n_estimators': n_estimators_range, \\\n",
    "     'class_weight': class_weight_range}]\n",
    "\n",
    "gs = GridSearchCV(estimator=RandomForestClassifier(criterion='entropy'), \\\n",
    "                  param_grid=param_grid, scoring='neg_log_loss', cv=6, n_jobs=2)\n",
    "%time gs = gs.fit(dfX, dfy)"
   ]
  },
  {
   "cell_type": "code",
   "execution_count": 7,
   "metadata": {},
   "outputs": [
    {
     "data": {
      "text/plain": [
       "{'class_weight': 'balanced', 'max_depth': 20, 'n_estimators': 1000}"
      ]
     },
     "execution_count": 7,
     "metadata": {},
     "output_type": "execute_result"
    }
   ],
   "source": [
    "gs.best_params_"
   ]
  },
  {
   "cell_type": "code",
   "execution_count": 8,
   "metadata": {},
   "outputs": [
    {
     "data": {
      "text/plain": [
       "-0.7927566737285812"
      ]
     },
     "execution_count": 8,
     "metadata": {},
     "output_type": "execute_result"
    }
   ],
   "source": [
    "gs.best_score_"
   ]
  },
  {
   "cell_type": "code",
   "execution_count": null,
   "metadata": {
    "collapsed": true
   },
   "outputs": [],
   "source": [
    "RandomForestClassifier(max_depth=20, n_estimators=1000)"
   ]
  },
  {
   "cell_type": "markdown",
   "metadata": {},
   "source": [
    "###    \n",
    "### Support Vector Classification\n",
    "###     "
   ]
  },
  {
   "cell_type": "markdown",
   "metadata": {},
   "source": [
    "> ** #SVC 1 C, gamma, kernel 조정 **"
   ]
  },
  {
   "cell_type": "code",
   "execution_count": 7,
   "metadata": {},
   "outputs": [
    {
     "name": "stdout",
     "output_type": "stream",
     "text": [
      "CPU times: user 13min, sys: 1.88 s, total: 13min 1s\n",
      "Wall time: 13min 2s\n"
     ]
    }
   ],
   "source": [
    "c_range = [0.0001, 0.001, 0.01, 0.1, 1.0, 10.0, 100.0, 1000.0]\n",
    "gamma_range = [0.01, 0.1, 1, 2, 3, 4, 5, 10]\n",
    "kernel_range = ['linear', 'poly', 'rbf', 'sigmoid']\n",
    "param_grid = [\n",
    "    {'C': c_range, 'gamma': gamma_range, 'kernel': kernel_range}]\n",
    "\n",
    "gs = GridSearchCV(estimator=SVC(), param_grid=param_grid, scoring='accuracy', cv=6, n_jobs=1)\n",
    "%time gs = gs.fit(dfX, dfy)"
   ]
  },
  {
   "cell_type": "code",
   "execution_count": 8,
   "metadata": {},
   "outputs": [
    {
     "data": {
      "text/plain": [
       "{'C': 0.1, 'gamma': 0.01, 'kernel': 'linear'}"
      ]
     },
     "execution_count": 8,
     "metadata": {},
     "output_type": "execute_result"
    }
   ],
   "source": [
    "gs.best_params_"
   ]
  },
  {
   "cell_type": "code",
   "execution_count": 9,
   "metadata": {
    "scrolled": true
   },
   "outputs": [
    {
     "data": {
      "text/plain": [
       "0.990909090909091"
      ]
     },
     "execution_count": 9,
     "metadata": {},
     "output_type": "execute_result"
    }
   ],
   "source": [
    "gs.best_score_"
   ]
  },
  {
   "cell_type": "code",
   "execution_count": 10,
   "metadata": {},
   "outputs": [
    {
     "data": {
      "text/plain": [
       "SVC(C=0.1, cache_size=200, class_weight=None, coef0=0.0,\n",
       "  decision_function_shape='ovr', degree=3, gamma=0.01, kernel='linear',\n",
       "  max_iter=-1, probability=False, random_state=None, shrinking=True,\n",
       "  tol=0.001, verbose=False)"
      ]
     },
     "execution_count": 10,
     "metadata": {},
     "output_type": "execute_result"
    }
   ],
   "source": [
    "gs.best_estimator_"
   ]
  },
  {
   "cell_type": "markdown",
   "metadata": {},
   "source": [
    "> ** #SVC 2 C, gamma 조정 **"
   ]
  },
  {
   "cell_type": "code",
   "execution_count": 6,
   "metadata": {},
   "outputs": [
    {
     "name": "stdout",
     "output_type": "stream",
     "text": [
      "CPU times: user 4min 9s, sys: 660 ms, total: 4min 10s\n",
      "Wall time: 4min 10s\n"
     ]
    }
   ],
   "source": [
    "c_range = np.linspace(0.000001, 1.000000, 10)\n",
    "gamma_range = np.linspace(0.000001, 1.000000, 10)\n",
    "kernel_range = ['linear']\n",
    "param_grid = [\n",
    "    {'C': c_range, 'gamma': gamma_range, 'kernel': kernel_range}]\n",
    "\n",
    "gs = GridSearchCV(estimator=SVC(), param_grid=param_grid, scoring='accuracy', cv=6, n_jobs=1)\n",
    "%time gs = gs.fit(dfX, dfy)"
   ]
  },
  {
   "cell_type": "code",
   "execution_count": 9,
   "metadata": {},
   "outputs": [
    {
     "data": {
      "text/plain": [
       "0.990909090909091"
      ]
     },
     "execution_count": 9,
     "metadata": {},
     "output_type": "execute_result"
    }
   ],
   "source": [
    "gs.best_score_"
   ]
  },
  {
   "cell_type": "code",
   "execution_count": 10,
   "metadata": {},
   "outputs": [
    {
     "data": {
      "text/plain": [
       "{'C': 0.111112, 'gamma': 9.9999999999999995e-07, 'kernel': 'linear'}"
      ]
     },
     "execution_count": 10,
     "metadata": {},
     "output_type": "execute_result"
    }
   ],
   "source": [
    "gs.best_params_"
   ]
  },
  {
   "cell_type": "markdown",
   "metadata": {
    "collapsed": true
   },
   "source": [
    "### 2.1.3 Ensemble"
   ]
  },
  {
   "cell_type": "code",
   "execution_count": 11,
   "metadata": {},
   "outputs": [
    {
     "data": {
      "text/plain": [
       "array([-0.29351407, -0.34327506, -0.2803785 , -0.33412072, -0.2980424 ,\n",
       "       -0.31397503, -0.3284416 , -0.28477717, -0.28969661, -0.2873976 ])"
      ]
     },
     "execution_count": 11,
     "metadata": {},
     "output_type": "execute_result"
    }
   ],
   "source": [
    "ensemble = VotingClassifier(estimators=[('lr',  LogisticRegression(C=2000, tol=0.0005, class_weight='balanced', solver='lbfgs',\\\n",
    "                                   multi_class = 'multinomial')), \n",
    "                                        ('gnb', RandomForestClassifier(class_weight= 'balanced', max_depth= 20, n_estimators= 1000, \\\n",
    "                                                                       criterion='entropy'))], voting='soft', weights=[1, 1])\n",
    "\n",
    "cross_val_score(ensemble,\\\n",
    "          dfX, dfy, scoring='neg_log_loss', cv=10)"
   ]
  },
  {
   "cell_type": "code",
   "execution_count": 13,
   "metadata": {},
   "outputs": [
    {
     "data": {
      "text/plain": [
       "array([ 0.97979798,  0.95959596,  1.        ,  0.96969697,  0.98989899,\n",
       "        0.98989899,  0.97979798,  0.98989899,  1.        ,  0.97979798])"
      ]
     },
     "execution_count": 13,
     "metadata": {},
     "output_type": "execute_result"
    }
   ],
   "source": [
    "ensemble = VotingClassifier(estimators=[('lr',  LogisticRegression(C=2000, tol=0.0005, class_weight='balanced', solver='lbfgs',\\\n",
    "                                   multi_class = 'multinomial')), \n",
    "                                        ('gnb', RandomForestClassifier(class_weight= 'balanced', max_depth= 20, n_estimators= 1000, \\\n",
    "                                                                       criterion='entropy'))], voting='hard', weights=[1, 1])\n",
    "\n",
    "cross_val_score(ensemble,\\\n",
    "          dfX, dfy, scoring='accuracy', cv=10)"
   ]
  },
  {
   "cell_type": "code",
   "execution_count": 14,
   "metadata": {},
   "outputs": [
    {
     "data": {
      "text/plain": [
       "0.98383838400000001"
      ]
     },
     "execution_count": 14,
     "metadata": {},
     "output_type": "execute_result"
    }
   ],
   "source": [
    "np.mean([ 0.97979798,  0.95959596,  1.        ,  0.96969697,  0.98989899, \\\n",
    "        0.98989899,  0.97979798,  0.98989899,  1.        ,  0.97979798])"
   ]
  },
  {
   "cell_type": "code",
   "execution_count": 16,
   "metadata": {},
   "outputs": [
    {
     "data": {
      "text/plain": [
       "0.9878787859999999"
      ]
     },
     "execution_count": 16,
     "metadata": {},
     "output_type": "execute_result"
    }
   ],
   "source": [
    "np.mean([ 0.98484848,  0.98989899,  0.97979798,  0.98989899,  0.99494949])"
   ]
  },
  {
   "cell_type": "markdown",
   "metadata": {},
   "source": [
    "## 2.2 Result & Discussion"
   ]
  },
  {
   "cell_type": "code",
   "execution_count": 17,
   "metadata": {
    "collapsed": true
   },
   "outputs": [],
   "source": [
    "model = LogisticRegression(C=2000, tol=0.0005, class_weight='balanced', solver='lbfgs',\\\n",
    "                                   multi_class = 'multinomial').fit(dfX, dfy)"
   ]
  },
  {
   "cell_type": "code",
   "execution_count": 22,
   "metadata": {
    "collapsed": true
   },
   "outputs": [],
   "source": [
    "dfy_pred = model.predict(dfX)\n",
    "dfy_pred_proba = model.predict_proba(dfX)"
   ]
  },
  {
   "cell_type": "code",
   "execution_count": 23,
   "metadata": {},
   "outputs": [
    {
     "data": {
      "text/plain": [
       "array([[10,  0,  0, ...,  0,  0,  0],\n",
       "       [ 0, 10,  0, ...,  0,  0,  0],\n",
       "       [ 0,  0, 10, ...,  0,  0,  0],\n",
       "       ..., \n",
       "       [ 0,  0,  0, ..., 10,  0,  0],\n",
       "       [ 0,  0,  0, ...,  0, 10,  0],\n",
       "       [ 0,  0,  0, ...,  0,  0, 10]])"
      ]
     },
     "execution_count": 23,
     "metadata": {},
     "output_type": "execute_result"
    }
   ],
   "source": [
    "confusion_matrix(dfy, dfy_pred)"
   ]
  },
  {
   "cell_type": "code",
   "execution_count": 25,
   "metadata": {
    "collapsed": true
   },
   "outputs": [
    {
     "name": "stdout",
     "output_type": "stream",
     "text": [
      "             precision    recall  f1-score   support\n",
      "\n",
      "          0       1.00      1.00      1.00        10\n",
      "          1       1.00      1.00      1.00        10\n",
      "          2       1.00      1.00      1.00        10\n",
      "          3       1.00      1.00      1.00        10\n",
      "          4       1.00      1.00      1.00        10\n",
      "          5       1.00      1.00      1.00        10\n",
      "          6       1.00      1.00      1.00        10\n",
      "          7       1.00      1.00      1.00        10\n",
      "          8       1.00      1.00      1.00        10\n",
      "          9       1.00      1.00      1.00        10\n",
      "         10       1.00      1.00      1.00        10\n",
      "         11       1.00      1.00      1.00        10\n",
      "         12       1.00      1.00      1.00        10\n",
      "         13       1.00      1.00      1.00        10\n",
      "         14       1.00      1.00      1.00        10\n",
      "         15       1.00      1.00      1.00        10\n",
      "         16       1.00      1.00      1.00        10\n",
      "         17       1.00      1.00      1.00        10\n",
      "         18       1.00      1.00      1.00        10\n",
      "         19       1.00      1.00      1.00        10\n",
      "         20       1.00      1.00      1.00        10\n",
      "         21       1.00      1.00      1.00        10\n",
      "         22       1.00      1.00      1.00        10\n",
      "         23       1.00      1.00      1.00        10\n",
      "         24       1.00      1.00      1.00        10\n",
      "         25       1.00      1.00      1.00        10\n",
      "         26       1.00      1.00      1.00        10\n",
      "         27       1.00      1.00      1.00        10\n",
      "         28       1.00      1.00      1.00        10\n",
      "         29       1.00      1.00      1.00        10\n",
      "         30       1.00      1.00      1.00        10\n",
      "         31       1.00      1.00      1.00        10\n",
      "         32       1.00      1.00      1.00        10\n",
      "         33       1.00      1.00      1.00        10\n",
      "         34       1.00      1.00      1.00        10\n",
      "         35       1.00      1.00      1.00        10\n",
      "         36       1.00      1.00      1.00        10\n",
      "         37       1.00      1.00      1.00        10\n",
      "         38       1.00      1.00      1.00        10\n",
      "         39       1.00      1.00      1.00        10\n",
      "         40       1.00      1.00      1.00        10\n",
      "         41       1.00      1.00      1.00        10\n",
      "         42       1.00      1.00      1.00        10\n",
      "         43       1.00      1.00      1.00        10\n",
      "         44       1.00      1.00      1.00        10\n",
      "         45       1.00      1.00      1.00        10\n",
      "         46       1.00      1.00      1.00        10\n",
      "         47       1.00      1.00      1.00        10\n",
      "         48       1.00      1.00      1.00        10\n",
      "         49       1.00      1.00      1.00        10\n",
      "         50       1.00      1.00      1.00        10\n",
      "         51       1.00      1.00      1.00        10\n",
      "         52       1.00      1.00      1.00        10\n",
      "         53       1.00      1.00      1.00        10\n",
      "         54       1.00      1.00      1.00        10\n",
      "         55       1.00      1.00      1.00        10\n",
      "         56       1.00      1.00      1.00        10\n",
      "         57       1.00      1.00      1.00        10\n",
      "         58       1.00      1.00      1.00        10\n",
      "         59       1.00      1.00      1.00        10\n",
      "         60       1.00      1.00      1.00        10\n",
      "         61       1.00      1.00      1.00        10\n",
      "         62       1.00      1.00      1.00        10\n",
      "         63       1.00      1.00      1.00        10\n",
      "         64       1.00      1.00      1.00        10\n",
      "         65       1.00      1.00      1.00        10\n",
      "         66       1.00      1.00      1.00        10\n",
      "         67       1.00      1.00      1.00        10\n",
      "         68       1.00      1.00      1.00        10\n",
      "         69       1.00      1.00      1.00        10\n",
      "         70       1.00      1.00      1.00        10\n",
      "         71       1.00      1.00      1.00        10\n",
      "         72       1.00      1.00      1.00        10\n",
      "         73       1.00      1.00      1.00        10\n",
      "         74       1.00      1.00      1.00        10\n",
      "         75       1.00      1.00      1.00        10\n",
      "         76       1.00      1.00      1.00        10\n",
      "         77       1.00      1.00      1.00        10\n",
      "         78       1.00      1.00      1.00        10\n",
      "         79       1.00      1.00      1.00        10\n",
      "         80       1.00      1.00      1.00        10\n",
      "         81       1.00      1.00      1.00        10\n",
      "         82       1.00      1.00      1.00        10\n",
      "         83       1.00      1.00      1.00        10\n",
      "         84       1.00      1.00      1.00        10\n",
      "         85       1.00      1.00      1.00        10\n",
      "         86       1.00      1.00      1.00        10\n",
      "         87       1.00      1.00      1.00        10\n",
      "         88       1.00      1.00      1.00        10\n",
      "         89       1.00      1.00      1.00        10\n",
      "         90       1.00      1.00      1.00        10\n",
      "         91       1.00      1.00      1.00        10\n",
      "         92       1.00      1.00      1.00        10\n",
      "         93       1.00      1.00      1.00        10\n",
      "         94       1.00      1.00      1.00        10\n",
      "         95       1.00      1.00      1.00        10\n",
      "         96       1.00      1.00      1.00        10\n",
      "         97       1.00      1.00      1.00        10\n",
      "         98       1.00      1.00      1.00        10\n",
      "\n",
      "avg / total       1.00      1.00      1.00       990\n",
      "\n"
     ]
    }
   ],
   "source": [
    "print(classification_report(dfy, dfy_pred))"
   ]
  },
  {
   "cell_type": "code",
   "execution_count": 32,
   "metadata": {
    "collapsed": true
   },
   "outputs": [
    {
     "data": {
      "image/png": "[encoded data removed]",
      "text/plain": [
       "<matplotlib.figure.Figure at 0x7fc024dfe7b8>"
      ]
     },
     "metadata": {},
     "output_type": "display_data"
    }
   ],
   "source": [
    "plt.style.use('fivethirtyeight')\n",
    "sns.set(font_scale=0.5)\n",
    "g = sns.barplot(x=list(range(99)), y=dfy_pred_proba[0])\n",
    "g.set_xticklabels(range(99), rotation=90)\n",
    "plt.grid(False)\n",
    "plt.show()"
   ]
  },
  {
   "cell_type": "code",
   "execution_count": 33,
   "metadata": {
    "collapsed": true
   },
   "outputs": [
    {
     "data": {
      "image/png": "[encoded data removed]",
      "text/plain": [
       "<matplotlib.figure.Figure at 0x7fc0247ddf28>"
      ]
     },
     "metadata": {},
     "output_type": "display_data"
    }
   ],
   "source": [
    "sns.set(font_scale=0.5)\n",
    "g = sns.barplot(x=list(range(99)), y=dfy_pred_proba[1])\n",
    "g.set_xticklabels(range(99), rotation=90)\n",
    "plt.grid(False)\n",
    "plt.show()"
   ]
  },
  {
   "cell_type": "code",
   "execution_count": 34,
   "metadata": {
    "collapsed": true
   },
   "outputs": [
    {
     "name": "stdout",
     "output_type": "stream",
     "text": [
      "line0: 0.999927136838\n",
      "line1: 0.999956110315\n",
      "line2: 0.999971315633\n",
      "line3: 0.999998014863\n",
      "line4: 0.99998745484\n",
      "line5: 0.999883856006\n",
      "line6: 0.999980836845\n",
      "line7: 0.999993458615\n",
      "line8: 0.999906428091\n",
      "line9: 0.999999084384\n",
      "line10: 0.999975969916\n",
      "line11: 0.999999133139\n",
      "line12: 0.999994373202\n",
      "line13: 0.999952466677\n",
      "line14: 0.99994861565\n",
      "line15: 0.999896241145\n",
      "line16: 0.999973447682\n",
      "line17: 0.999997410931\n",
      "line18: 0.999997968967\n",
      "line19: 0.99997496452\n",
      "line20: 0.999998979379\n",
      "line21: 0.999979199315\n",
      "line22: 0.999984755678\n",
      "line23: 0.999973588068\n",
      "line24: 0.999999961069\n",
      "line25: 0.999967408341\n",
      "line26: 0.999993977111\n",
      "line27: 0.999983614796\n",
      "line28: 0.999976969541\n",
      "line29: 0.999985705608\n",
      "line30: 0.999899787601\n",
      "line31: 0.99999786216\n",
      "line32: 0.999939975526\n",
      "line33: 0.999999955792\n",
      "line34: 0.999991124018\n",
      "line35: 0.99996175873\n",
      "line36: 0.999985478238\n",
      "line37: 0.999958986724\n",
      "line38: 0.999982640012\n",
      "line39: 0.999985095335\n",
      "line40: 0.99995966863\n",
      "line41: 0.999991885325\n",
      "line42: 0.999925368917\n",
      "line43: 0.999983341222\n",
      "line44: 0.999998905302\n",
      "line45: 0.999986472401\n",
      "line46: 0.999988108818\n",
      "line47: 0.999991585662\n",
      "line48: 0.999955834871\n",
      "line49: 0.999999049786\n",
      "line50: 0.999897268958\n",
      "line51: 0.999996909573\n",
      "line52: 0.999987356294\n",
      "line53: 0.999971933673\n",
      "line54: 0.999989241617\n",
      "line55: 0.999982371898\n",
      "line56: 0.999985941018\n",
      "line57: 0.999977330244\n",
      "line58: 0.999899394024\n",
      "line59: 0.99994123634\n",
      "line60: 0.999959520799\n",
      "line61: 0.99999990821\n",
      "line62: 0.999945220235\n",
      "line63: 0.999927370252\n",
      "line64: 0.999975218377\n",
      "line65: 0.999968490898\n",
      "line66: 0.99996317607\n",
      "line67: 0.999927780683\n",
      "line68: 0.999999286291\n",
      "line69: 0.99999783999\n",
      "line70: 0.999977131369\n",
      "line71: 0.99999033202\n",
      "line72: 0.999986024277\n",
      "line73: 0.999999425045\n",
      "line74: 0.999885809052\n",
      "line75: 0.999991998657\n",
      "line76: 0.999963548582\n",
      "line77: 0.999976316795\n",
      "line78: 0.999980032285\n",
      "line79: 0.999997537787\n",
      "line80: 0.999999441155\n",
      "line81: 0.999997868462\n",
      "line82: 0.999955304993\n",
      "line83: 0.999984044727\n",
      "line84: 0.999942997814\n",
      "line85: 0.999925319998\n",
      "line86: 0.999963956456\n",
      "line87: 0.999985885775\n",
      "line88: 0.999977992449\n",
      "line89: 0.999970162258\n",
      "line90: 0.999974081002\n",
      "line91: 0.999975040508\n",
      "line92: 0.99998251662\n",
      "line93: 0.99999327283\n",
      "line94: 0.999994092388\n",
      "line95: 0.999985954469\n",
      "line96: 0.999967922162\n",
      "line97: 0.999972575341\n",
      "line98: 0.99995225487\n",
      "line99: 0.999956127466\n",
      "line100: 0.999999553722\n",
      "line101: 0.999923568303\n",
      "line102: 0.999931745312\n",
      "line103: 0.999996444675\n",
      "line104: 0.999997211142\n",
      "line105: 0.999990453541\n",
      "line106: 0.999969035442\n",
      "line107: 0.999982235644\n",
      "line108: 0.999999965325\n",
      "line109: 0.999961422773\n",
      "line110: 0.999992435014\n",
      "line111: 0.999935539717\n",
      "line112: 0.999830210043\n",
      "line113: 0.999987073714\n",
      "line114: 0.999924920252\n",
      "line115: 0.999973522297\n",
      "line116: 0.999942033412\n",
      "line117: 0.999927908934\n",
      "line118: 0.999951669293\n",
      "line119: 0.999998290403\n",
      "line120: 0.999989476273\n",
      "line121: 0.999970430944\n",
      "line122: 0.999994465042\n",
      "line123: 0.999999407579\n",
      "line124: 0.99999111952\n",
      "line125: 0.999992101209\n",
      "line126: 0.999967611817\n",
      "line127: 0.999986307072\n",
      "line128: 0.999969402232\n",
      "line129: 0.99999441929\n",
      "line130: 0.999946796245\n",
      "line131: 0.999960741112\n",
      "line132: 0.999961083327\n",
      "line133: 0.999996242609\n",
      "line134: 0.999998349435\n",
      "line135: 0.999975442947\n",
      "line136: 0.999963701641\n",
      "line137: 0.999992135801\n",
      "line138: 0.999951936079\n",
      "line139: 0.99996113335\n",
      "line140: 0.999983002614\n",
      "line141: 0.999985961279\n",
      "line142: 0.99999688009\n",
      "line143: 0.999919561401\n",
      "line144: 0.999985230389\n",
      "line145: 0.999957907391\n",
      "line146: 0.999990174995\n",
      "line147: 0.999954783854\n",
      "line148: 0.999945452552\n",
      "line149: 0.999999564813\n",
      "line150: 0.999965450474\n",
      "line151: 0.999976385591\n",
      "line152: 0.999980854474\n",
      "line153: 0.99999500415\n",
      "line154: 0.99999670434\n",
      "line155: 0.999962660503\n",
      "line156: 0.999991171002\n",
      "line157: 0.999960953211\n",
      "line158: 0.999969542965\n",
      "line159: 0.99998219502\n",
      "line160: 0.999987927026\n",
      "line161: 0.999985330591\n",
      "line162: 0.999991739704\n",
      "line163: 0.999958546376\n",
      "line164: 0.999995942529\n",
      "line165: 0.999935511877\n",
      "line166: 0.999984456961\n",
      "line167: 0.99991161269\n",
      "line168: 0.999989434174\n",
      "line169: 0.999952107519\n",
      "line170: 0.999998027901\n",
      "line171: 0.999999789869\n",
      "line172: 0.999980808466\n",
      "line173: 0.999979816075\n",
      "line174: 0.999980457324\n",
      "line175: 0.999953195327\n",
      "line176: 0.999970852002\n",
      "line177: 0.999972293283\n",
      "line178: 0.999970564569\n",
      "line179: 0.99999084638\n",
      "line180: 0.999988073355\n",
      "line181: 0.999979187589\n",
      "line182: 0.999975513915\n",
      "line183: 0.999996702415\n",
      "line184: 0.999998274824\n",
      "line185: 0.999994625706\n",
      "line186: 0.999956567558\n",
      "line187: 0.999986891748\n",
      "line188: 0.999984047768\n",
      "line189: 0.999933997801\n",
      "line190: 0.999961911579\n",
      "line191: 0.999999430112\n",
      "line192: 0.99999813944\n",
      "line193: 0.999977745735\n",
      "line194: 0.999999821572\n",
      "line195: 0.999985853065\n",
      "line196: 0.999973779577\n",
      "line197: 0.999967725396\n",
      "line198: 0.99998871706\n",
      "line199: 0.999954534441\n",
      "line200: 0.999985107097\n",
      "line201: 0.999954291659\n",
      "line202: 0.999996423832\n",
      "line203: 0.999947933086\n",
      "line204: 0.999906952321\n",
      "line205: 0.999951047334\n",
      "line206: 0.999913542295\n",
      "line207: 0.999982126\n",
      "line208: 0.999993456402\n",
      "line209: 0.999997980182\n",
      "line210: 0.999998237948\n",
      "line211: 0.999999554063\n",
      "line212: 0.999962123728\n",
      "line213: 0.999964149477\n",
      "line214: 0.999951977802\n",
      "line215: 0.999933514313\n",
      "line216: 0.999999907042\n",
      "line217: 0.9999518883\n",
      "line218: 0.999988557709\n",
      "line219: 0.999977952726\n",
      "line220: 0.999985433366\n",
      "line221: 0.999997971676\n",
      "line222: 0.999986803039\n",
      "line223: 0.999974912563\n",
      "line224: 0.999849087185\n",
      "line225: 0.999943911146\n",
      "line226: 0.999995984039\n",
      "line227: 0.99997685829\n",
      "line228: 0.999989654444\n",
      "line229: 0.999994121763\n",
      "line230: 0.999998704546\n",
      "line231: 0.999945641697\n",
      "line232: 0.999992391526\n",
      "line233: 0.999963176797\n",
      "line234: 0.999962954124\n",
      "line235: 0.999972799206\n",
      "line236: 0.999991005305\n",
      "line237: 0.999998358174\n",
      "line238: 0.999923350352\n",
      "line239: 0.999951890241\n",
      "line240: 0.999940470018\n",
      "line241: 0.999984842187\n",
      "line242: 0.999951462849\n",
      "line243: 0.999974223003\n",
      "line244: 0.999963398681\n",
      "line245: 0.999997361112\n",
      "line246: 0.999977773367\n",
      "line247: 0.999985320881\n",
      "line248: 0.999949635626\n",
      "line249: 0.999976123247\n",
      "line250: 0.999992178571\n",
      "line251: 0.999983594136\n",
      "line252: 0.999950390865\n",
      "line253: 0.999866816904\n",
      "line254: 0.999983105422\n",
      "line255: 0.999998200962\n",
      "line256: 0.999983048649\n",
      "line257: 0.999998337913\n",
      "line258: 0.999976629362\n",
      "line259: 0.999955501616\n",
      "line260: 0.999997495079\n",
      "line261: 0.999955376485\n",
      "line262: 0.999979883192\n",
      "line263: 0.999948876815\n",
      "line264: 0.999967888703\n",
      "line265: 0.999989902431\n",
      "line266: 0.999953835954\n",
      "line267: 0.999991520297\n",
      "line268: 0.99997024027\n",
      "line269: 0.999950093073\n",
      "line270: 0.999956708139\n",
      "line271: 0.999985828861\n",
      "line272: 0.999930171771\n",
      "line273: 0.999981385242\n",
      "line274: 0.999998168542\n",
      "line275: 0.99998232819\n",
      "line276: 0.999998537993\n",
      "line277: 0.999984553405\n",
      "line278: 0.999996297629\n",
      "line279: 0.999995079309\n",
      "line280: 0.999923651052\n",
      "line281: 0.999997329973\n",
      "line282: 0.999993351489\n",
      "line283: 0.999913168985\n",
      "line284: 0.999990027509\n",
      "line285: 0.999964540417\n",
      "line286: 0.999995807563\n",
      "line287: 0.999973632275\n",
      "line288: 0.999988904721\n",
      "line289: 0.999992426964\n",
      "line290: 0.999931919991\n",
      "line291: 0.999951719723\n",
      "line292: 0.999957871008\n",
      "line293: 0.999993465886\n",
      "line294: 0.99995685806\n",
      "line295: 0.999987539086\n",
      "line296: 0.999968096149\n",
      "line297: 0.999998727325\n",
      "line298: 0.999948083325\n",
      "line299: 0.999972849118\n",
      "line300: 0.999994639528\n",
      "line301: 0.999969885928\n",
      "line302: 0.999993418599\n",
      "line303: 0.999910529363\n",
      "line304: 0.999986710727\n",
      "line305: 0.999977300446\n",
      "line306: 0.999984121261\n",
      "line307: 0.999990073736\n",
      "line308: 0.999996603456\n",
      "line309: 0.999999325654\n",
      "line310: 0.99998972917\n",
      "line311: 0.999970655631\n",
      "line312: 0.999996434251\n",
      "line313: 0.999951268075\n",
      "line314: 0.999995547148\n",
      "line315: 0.999944934865\n",
      "line316: 0.999994660777\n",
      "line317: 0.999992410869\n",
      "line318: 0.999902213313\n",
      "line319: 0.999999916859\n",
      "line320: 0.999991874475\n",
      "line321: 0.999974335299\n",
      "line322: 0.999976966032\n",
      "line323: 0.999982915871\n",
      "line324: 0.999993870209\n",
      "line325: 0.999998361652\n",
      "line326: 0.999993038951\n",
      "line327: 0.999962059473\n",
      "line328: 0.999968405694\n",
      "line329: 0.999933802023\n",
      "line330: 0.999986445865\n",
      "line331: 0.999896696698\n",
      "line332: 0.999977435101\n",
      "line333: 0.999999693907\n",
      "line334: 0.999959095051\n",
      "line335: 0.99998172357\n",
      "line336: 0.999970472131\n",
      "line337: 0.999965183968\n",
      "line338: 0.999942185854\n",
      "line339: 0.999964800541\n",
      "line340: 0.99998481422\n",
      "line341: 0.999963103623\n",
      "line342: 0.99997521904\n",
      "line343: 0.999999661442\n",
      "line344: 0.999961505265\n",
      "line345: 0.999973222806\n",
      "line346: 0.999998522268\n",
      "line347: 0.999956997934\n",
      "line348: 0.999972625243\n",
      "line349: 0.999977078864\n",
      "line350: 0.999997394651\n",
      "line351: 0.999980740294\n",
      "line352: 0.999966029005\n",
      "line353: 0.999998586899\n",
      "line354: 0.999997946014\n",
      "line355: 0.999972122545\n",
      "line356: 0.99999875399\n",
      "line357: 0.999993412362\n",
      "line358: 0.999960119179\n",
      "line359: 0.999999608893\n",
      "line360: 0.999991835124\n",
      "line361: 0.999998383128\n",
      "line362: 0.999991314675\n",
      "line363: 0.999997839268\n",
      "line364: 0.999988682354\n",
      "line365: 0.99996595927\n",
      "line366: 0.999973076672\n",
      "line367: 0.999967668304\n",
      "line368: 0.999890248525\n",
      "line369: 0.99995026179\n",
      "line370: 0.999975471433\n",
      "line371: 0.999986463774\n",
      "line372: 0.999981191963\n",
      "line373: 0.999814786809\n",
      "line374: 0.999967246883\n",
      "line375: 0.999871077666\n",
      "line376: 0.999985481198\n",
      "line377: 0.999956882898\n",
      "line378: 0.999996436868\n",
      "line379: 0.999913292994\n",
      "line380: 0.999969511488\n",
      "line381: 0.999990253087\n",
      "line382: 0.999971220645\n",
      "line383: 0.999985040085\n",
      "line384: 0.999986570637\n",
      "line385: 0.999983534342\n",
      "line386: 0.99993849698\n",
      "line387: 0.999993583026\n",
      "line388: 0.999967130885\n",
      "line389: 0.999981786869\n",
      "line390: 0.999954937092\n",
      "line391: 0.99999182074\n",
      "line392: 0.999967235093\n",
      "line393: 0.999969177903\n",
      "line394: 0.999947866196\n",
      "line395: 0.999988398549\n",
      "line396: 0.999978603659\n",
      "line397: 0.999979937392\n",
      "line398: 0.999973548593\n",
      "line399: 0.999994237245\n",
      "line400: 0.999987762757\n",
      "line401: 0.999939528708\n",
      "line402: 0.999992304897\n",
      "line403: 0.999966337852\n",
      "line404: 0.999934415995\n",
      "line405: 0.999984631712\n",
      "line406: 0.999934120642\n",
      "line407: 0.99997822865\n",
      "line408: 0.999967694755\n",
      "line409: 0.999984869951\n",
      "line410: 0.999986164713\n",
      "line411: 0.999992090495\n",
      "line412: 0.999979335417\n",
      "line413: 0.999980068254\n",
      "line414: 0.999940467014\n",
      "line415: 0.999993371169\n",
      "line416: 0.999992528764\n",
      "line417: 0.999992013343\n",
      "line418: 0.999984965829\n",
      "line419: 0.999994667094\n",
      "line420: 0.999956582977\n",
      "line421: 0.999958625979\n",
      "line422: 0.999995785132\n",
      "line423: 0.999947150239\n",
      "line424: 0.999999043282\n",
      "line425: 0.999972593225\n",
      "line426: 0.999972715764\n",
      "line427: 0.999999925019\n",
      "line428: 0.999986522886\n",
      "line429: 0.999980233545\n",
      "line430: 0.999992734451\n",
      "line431: 0.999995560914\n",
      "line432: 0.999985806335\n",
      "line433: 0.999964446866\n",
      "line434: 0.999981444179\n",
      "line435: 0.99998880946\n",
      "line436: 0.999961433896\n",
      "line437: 0.999986698839\n",
      "line438: 0.99999198875\n",
      "line439: 0.999912099632\n",
      "line440: 0.999949365348\n",
      "line441: 0.99997729664\n",
      "line442: 0.999957235573\n",
      "line443: 0.999987837365\n",
      "line444: 0.999978803503\n",
      "line445: 0.999989919859\n",
      "line446: 0.999976741219\n",
      "line447: 0.999972954543\n",
      "line448: 0.999943929247\n",
      "line449: 0.999945158349\n",
      "line450: 0.999985809822\n",
      "line451: 0.99996938153\n",
      "line452: 0.999987376726\n",
      "line453: 0.999978663484\n",
      "line454: 0.999940880015\n",
      "line455: 0.999979664108\n",
      "line456: 0.999951281301\n",
      "line457: 0.999992638801\n",
      "line458: 0.999974824012\n",
      "line459: 0.999998506983\n",
      "line460: 0.999983787477\n",
      "line461: 0.999990742649\n",
      "line462: 0.999946083591\n",
      "line463: 0.999971095197\n",
      "line464: 0.999967265652\n",
      "line465: 0.999964025351\n",
      "line466: 0.999898187284\n",
      "line467: 0.999992454368\n",
      "line468: 0.999999438107\n",
      "line469: 0.999996680104\n",
      "line470: 0.99997223664\n",
      "line471: 0.999999982386\n",
      "line472: 0.999984915809\n",
      "line473: 0.999983848912\n",
      "line474: 0.99992533192\n",
      "line475: 0.999899311809\n",
      "line476: 0.999947512746\n",
      "line477: 0.999999273898\n",
      "line478: 0.999985568565\n",
      "line479: 0.999995948531\n",
      "line480: 0.999945918248\n",
      "line481: 0.999977224046\n",
      "line482: 0.999932943277\n",
      "line483: 0.999973354058\n",
      "line484: 0.999977191713\n",
      "line485: 0.999994275572\n",
      "line486: 0.999936162153\n",
      "line487: 0.999972041015\n",
      "line488: 0.999984038421\n",
      "line489: 0.999980815327\n",
      "line490: 0.999894278094\n",
      "line491: 0.999977541975\n",
      "line492: 0.999965717732\n",
      "line493: 0.99996619494\n",
      "line494: 0.999979994156\n",
      "line495: 0.999955973912\n",
      "line496: 0.999922912066\n",
      "line497: 0.999977361599\n",
      "line498: 0.9999695573\n",
      "line499: 0.999968326136\n",
      "line500: 0.999981291863\n",
      "line501: 0.999992534654\n",
      "line502: 0.999986138687\n",
      "line503: 0.999984786614\n",
      "line504: 0.999936112574\n",
      "line505: 0.999972640256\n",
      "line506: 0.999985091902\n",
      "line507: 0.999987707355\n",
      "line508: 0.999970206909\n",
      "line509: 0.999932042787\n",
      "line510: 0.999949833659\n",
      "line511: 0.999945100345\n",
      "line512: 0.999948811778\n",
      "line513: 0.999984953\n",
      "line514: 0.999942183474\n",
      "line515: 0.999965406087\n",
      "line516: 0.999999051547\n",
      "line517: 0.999987303191\n",
      "line518: 0.99996120985\n",
      "line519: 0.99998552683\n",
      "line520: 0.999997810507\n",
      "line521: 0.999923167436\n",
      "line522: 0.999999947502\n",
      "line523: 0.999943342095\n",
      "line524: 0.999979108108\n",
      "line525: 0.999980653754\n",
      "line526: 0.999960666017\n",
      "line527: 0.999959310118\n",
      "line528: 0.999965864027\n",
      "line529: 0.99988547247\n",
      "line530: 0.99999518992\n",
      "line531: 0.999989057334\n",
      "line532: 0.999994087166\n",
      "line533: 0.999997020575\n",
      "line534: 0.999994812625\n",
      "line535: 0.999945654382\n",
      "line536: 0.999979532127\n",
      "line537: 0.999872525246\n",
      "line538: 0.999999679307\n",
      "line539: 0.999999314103\n",
      "line540: 0.999997183817\n",
      "line541: 0.999986918792\n",
      "line542: 0.999948013529\n",
      "line543: 0.999914278531\n",
      "line544: 0.999940833323\n",
      "line545: 0.999983191691\n",
      "line546: 0.999979150877\n",
      "line547: 0.999908555323\n",
      "line548: 0.999997463055\n",
      "line549: 0.999986428253\n",
      "line550: 0.999974747694\n",
      "line551: 0.999962420395\n",
      "line552: 0.999975650595\n",
      "line553: 0.999961057189\n",
      "line554: 0.999943349495\n",
      "line555: 0.999977674289\n",
      "line556: 0.999976791206\n",
      "line557: 0.999985597786\n",
      "line558: 0.999965974602\n",
      "line559: 0.999998083018\n",
      "line560: 0.999989093366\n",
      "line561: 0.999957852173\n",
      "line562: 0.999977251407\n",
      "line563: 0.999998831673\n",
      "line564: 0.999978586456\n",
      "line565: 0.999998403526\n",
      "line566: 0.999984568884\n",
      "line567: 0.999978453977\n",
      "line568: 0.999916067819\n",
      "line569: 0.99999992847\n",
      "line570: 0.999963202236\n",
      "line571: 0.999984841666\n",
      "line572: 0.999995367635\n",
      "line573: 0.999992986126\n",
      "line574: 0.999984103995\n",
      "line575: 0.999978945684\n",
      "line576: 0.999986918847\n",
      "line577: 0.99998661089\n",
      "line578: 0.999816679511\n",
      "line579: 0.999949340116\n",
      "line580: 0.999980007527\n",
      "line581: 0.999976353916\n",
      "line582: 0.9999707532\n",
      "line583: 0.99994913876\n",
      "line584: 0.999999992602\n",
      "line585: 0.999941886364\n",
      "line586: 0.999988240624\n",
      "line587: 0.999986936908\n",
      "line588: 0.999986011741\n",
      "line589: 0.999969404805\n",
      "line590: 0.999996656736\n",
      "line591: 0.999981161378\n",
      "line592: 0.999993037469\n",
      "line593: 0.999982467872\n",
      "line594: 0.999977961009\n",
      "line595: 0.999979149974\n",
      "line596: 0.999996926453\n",
      "line597: 0.999992712377\n",
      "line598: 0.999972049118\n",
      "line599: 0.999997294476\n",
      "line600: 0.999954777094\n",
      "line601: 0.999951392537\n",
      "line602: 0.999974434185\n",
      "line603: 0.999935069672\n",
      "line604: 0.999971766772\n",
      "line605: 0.999990449477\n",
      "line606: 0.999996251583\n",
      "line607: 0.999972292308\n",
      "line608: 0.999983871924\n",
      "line609: 0.999981010734\n",
      "line610: 0.999974103812\n",
      "line611: 0.999995111841\n",
      "line612: 0.999999492777\n",
      "line613: 0.999973938142\n",
      "line614: 0.99999985224\n",
      "line615: 0.999971192554\n",
      "line616: 0.999976772676\n",
      "line617: 0.999989376549\n",
      "line618: 0.999978736013\n",
      "line619: 0.999980527861\n",
      "line620: 0.999964407128\n",
      "line621: 0.999980408066\n",
      "line622: 0.999965250391\n",
      "line623: 0.9998913859\n",
      "line624: 0.999986810013\n",
      "line625: 0.999961465078\n",
      "line626: 0.999985220488\n",
      "line627: 0.999993160489\n",
      "line628: 0.999962815458\n",
      "line629: 0.999949094764\n",
      "line630: 0.999949357674\n",
      "line631: 0.999997672424\n",
      "line632: 0.99998860048\n",
      "line633: 0.999954475288\n",
      "line634: 0.999962440454\n",
      "line635: 0.999931243514\n",
      "line636: 0.999983941771\n",
      "line637: 0.999991139536\n",
      "line638: 0.999992458219\n",
      "line639: 0.999983408839\n",
      "line640: 0.999995837903\n",
      "line641: 0.999998226816\n",
      "line642: 0.999987346716\n",
      "line643: 0.999995561528\n",
      "line644: 0.999967943877\n",
      "line645: 0.99999262833\n",
      "line646: 0.999970071527\n",
      "line647: 0.999970698285\n",
      "line648: 0.999908986191\n",
      "line649: 0.999999958455\n",
      "line650: 0.999988358139\n",
      "line651: 0.999970740357\n",
      "line652: 0.999936548221\n",
      "line653: 0.999999223841\n",
      "line654: 0.999997386701\n",
      "line655: 0.999987228589\n",
      "line656: 0.999966344388\n",
      "line657: 0.999999996894\n",
      "line658: 0.999978195523\n",
      "line659: 0.999999691509\n",
      "line660: 0.999980425816\n",
      "line661: 0.999996926826\n",
      "line662: 0.999920758663\n",
      "line663: 0.999901169874\n",
      "line664: 0.999972212832\n",
      "line665: 0.99998548834\n",
      "line666: 0.999995033221\n",
      "line667: 0.999949492693\n",
      "line668: 0.999994413526\n",
      "line669: 0.999994933796\n",
      "line670: 0.999950478349\n",
      "line671: 0.999989499317\n",
      "line672: 0.99997196054\n",
      "line673: 0.999972715265\n",
      "line674: 0.999994552557\n",
      "line675: 0.999999860002\n",
      "line676: 0.99999827149\n",
      "line677: 0.999999231954\n",
      "line678: 0.999927148501\n",
      "line679: 0.999967682488\n",
      "line680: 0.999999493658\n",
      "line681: 0.999993892768\n",
      "line682: 0.999965001802\n",
      "line683: 0.999998537648\n",
      "line684: 0.99997967668\n",
      "line685: 0.999979475461\n",
      "line686: 0.999969829297\n",
      "line687: 0.999988789185\n",
      "line688: 0.999965488056\n",
      "line689: 0.999995881822\n",
      "line690: 0.999991631312\n",
      "line691: 0.999993010898\n",
      "line692: 0.999999277163\n",
      "line693: 0.99996723146\n",
      "line694: 0.999998208262\n",
      "line695: 0.999979222976\n",
      "line696: 0.999998896265\n",
      "line697: 0.999994400561\n",
      "line698: 0.999996554861\n",
      "line699: 0.999989654813\n",
      "line700: 0.999997994139\n",
      "line701: 0.999962653533\n",
      "line702: 0.999951226558\n",
      "line703: 0.999992807684\n",
      "line704: 0.99996753477\n",
      "line705: 0.999937108806\n",
      "line706: 0.999964895676\n",
      "line707: 0.999929347623\n",
      "line708: 0.999981329245\n",
      "line709: 0.999973344516\n",
      "line710: 0.999994311917\n",
      "line711: 0.999987827482\n",
      "line712: 0.999974253626\n",
      "line713: 0.999998598584\n",
      "line714: 0.999986467155\n",
      "line715: 0.999982267787\n",
      "line716: 0.999969080609\n",
      "line717: 0.999979329904\n",
      "line718: 0.999951571493\n",
      "line719: 0.999967388616\n",
      "line720: 0.999989182683\n",
      "line721: 0.999989607061\n",
      "line722: 0.999922720679\n",
      "line723: 0.999988727093\n",
      "line724: 0.999995549859\n",
      "line725: 0.999953370752\n",
      "line726: 0.999895920457\n",
      "line727: 0.999979627646\n",
      "line728: 0.999998143281\n",
      "line729: 0.999967653453\n",
      "line730: 0.999972081809\n",
      "line731: 0.999991727399\n",
      "line732: 0.999983345838\n",
      "line733: 0.999994389739\n",
      "line734: 0.999999784149\n",
      "line735: 0.999986013911\n",
      "line736: 0.99995283371\n",
      "line737: 0.999998476875\n",
      "line738: 0.999998421924\n",
      "line739: 0.999974072467\n",
      "line740: 0.999997554158\n",
      "line741: 0.999925116292\n",
      "line742: 0.999973791059\n",
      "line743: 0.999970409871\n",
      "line744: 0.999941753962\n",
      "line745: 0.999993522883\n",
      "line746: 0.999942198754\n",
      "line747: 0.999906003512\n",
      "line748: 0.99999804895\n",
      "line749: 0.999926769884\n",
      "line750: 0.999969574398\n",
      "line751: 0.999941274567\n",
      "line752: 0.999945781712\n",
      "line753: 0.999983311708\n",
      "line754: 0.999997979262\n",
      "line755: 0.999992340865\n",
      "line756: 0.999960986706\n",
      "line757: 0.999946291664\n",
      "line758: 0.999992577186\n",
      "line759: 0.999961368716\n",
      "line760: 0.999924798752\n",
      "line761: 0.999992324967\n",
      "line762: 0.999999919661\n",
      "line763: 0.999978297303\n",
      "line764: 0.999981142341\n",
      "line765: 0.9999678058\n",
      "line766: 0.999993626846\n",
      "line767: 0.999991992526\n",
      "line768: 0.999974683028\n",
      "line769: 0.999992027336\n",
      "line770: 0.999998637302\n",
      "line771: 0.999925195888\n",
      "line772: 0.999971296189\n",
      "line773: 0.999907646989\n",
      "line774: 0.999989688101\n",
      "line775: 0.999950972342\n",
      "line776: 0.999989374434\n",
      "line777: 0.999968286615\n",
      "line778: 0.999944867687\n",
      "line779: 0.999986564365\n",
      "line780: 0.999909542218\n",
      "line781: 0.999951084341\n",
      "line782: 0.999990449231\n",
      "line783: 0.99997322425\n",
      "line784: 0.999961940789\n",
      "line785: 0.999955548553\n",
      "line786: 0.999983268608\n",
      "line787: 0.999977117991\n",
      "line788: 0.999982094034\n",
      "line789: 0.999995797987\n",
      "line790: 0.99999821611\n",
      "line791: 0.99994153908\n",
      "line792: 0.999960022494\n",
      "line793: 0.999999999714\n",
      "line794: 0.999980418203\n",
      "line795: 0.999999667007\n",
      "line796: 0.999965885381\n",
      "line797: 0.999977983852\n",
      "line798: 0.99999759812\n",
      "line799: 0.999985968216\n",
      "line800: 0.999974385462\n",
      "line801: 0.999999321145\n",
      "line802: 0.999998398044\n",
      "line803: 0.999981084413\n",
      "line804: 0.999982348025\n",
      "line805: 0.999992529965\n",
      "line806: 0.999950380112\n",
      "line807: 0.999971174706\n",
      "line808: 0.999999277234\n",
      "line809: 0.999999433749\n",
      "line810: 0.999985223748\n",
      "line811: 0.999967793806\n",
      "line812: 0.999994675929\n",
      "line813: 0.999995522546\n",
      "line814: 0.99998429944\n",
      "line815: 0.999964402668\n",
      "line816: 0.999976425351\n",
      "line817: 0.999999726528\n",
      "line818: 0.999993206888\n",
      "line819: 0.99995855641\n",
      "line820: 0.99999163676\n",
      "line821: 0.999936816746\n",
      "line822: 0.99996820871\n",
      "line823: 0.999991156717\n",
      "line824: 0.999968648776\n",
      "line825: 0.99996128512\n",
      "line826: 0.999893104302\n",
      "line827: 0.999997900525\n",
      "line828: 0.999989802623\n",
      "line829: 0.999932687248\n",
      "line830: 0.999966366979\n",
      "line831: 0.999997821853\n",
      "line832: 0.999997610597\n",
      "line833: 0.999925422994\n",
      "line834: 0.999987925596\n",
      "line835: 0.999992545621\n",
      "line836: 0.999997746216\n",
      "line837: 0.999962439142\n",
      "line838: 0.999984695051\n",
      "line839: 0.999995990947\n",
      "line840: 0.999962674805\n",
      "line841: 0.999995873364\n",
      "line842: 0.99998033226\n",
      "line843: 0.999977430364\n",
      "line844: 0.999999998909\n",
      "line845: 0.999955495855\n",
      "line846: 0.999995471265\n",
      "line847: 0.999992650824\n",
      "line848: 0.999988107862\n",
      "line849: 0.999938290607\n",
      "line850: 0.999946863508\n",
      "line851: 0.99994831304\n",
      "line852: 0.99994677135\n",
      "line853: 0.999996150686\n",
      "line854: 0.999987044547\n",
      "line855: 0.999972652944\n",
      "line856: 0.999998752671\n",
      "line857: 0.999986428924\n",
      "line858: 0.999982555861\n",
      "line859: 0.999996710345\n",
      "line860: 0.999967660914\n",
      "line861: 0.999976646618\n",
      "line862: 0.999982090526\n",
      "line863: 0.999988331861\n",
      "line864: 0.999928199486\n",
      "line865: 0.999956714601\n",
      "line866: 0.99995825626\n",
      "line867: 0.999981091226\n",
      "line868: 0.999986459598\n",
      "line869: 0.999972262461\n",
      "line870: 0.999989460204\n",
      "line871: 0.999969025802\n",
      "line872: 0.999995280977\n",
      "line873: 0.999986038659\n",
      "line874: 0.99996900401\n",
      "line875: 0.999985657961\n",
      "line876: 0.999984516987\n",
      "line877: 0.999998847908\n",
      "line878: 0.999972338388\n",
      "line879: 0.999995392461\n",
      "line880: 0.999934946976\n",
      "line881: 0.999985615725\n",
      "line882: 0.999962803601\n",
      "line883: 0.999976482989\n",
      "line884: 0.999994084839\n",
      "line885: 0.999964604864\n",
      "line886: 0.999987116773\n",
      "line887: 0.999960518243\n",
      "line888: 0.999974582911\n",
      "line889: 0.999974811792\n",
      "line890: 0.999986210466\n",
      "line891: 0.999999107681\n",
      "line892: 0.999974054508\n",
      "line893: 0.999999321714\n",
      "line894: 0.999996590448\n",
      "line895: 0.999983514414\n",
      "line896: 0.999953564978\n",
      "line897: 0.999988600432\n",
      "line898: 0.999980473538\n",
      "line899: 0.999999926161\n",
      "line900: 0.999990611528\n",
      "line901: 0.999994762168\n",
      "line902: 0.999959259002\n",
      "line903: 0.99992144412\n",
      "line904: 0.999984521498\n",
      "line905: 0.999973345192\n",
      "line906: 0.999993321067\n",
      "line907: 0.999982204615\n",
      "line908: 0.99995297378\n",
      "line909: 0.999970263704\n",
      "line910: 0.999914073843\n",
      "line911: 0.999991955987\n",
      "line912: 0.999931244861\n",
      "line913: 0.999974528196\n",
      "line914: 0.999997166577\n",
      "line915: 0.999985891768\n",
      "line916: 0.999915033951\n",
      "line917: 0.999959593257\n",
      "line918: 0.999996093664\n",
      "line919: 0.999958058622\n",
      "line920: 0.999991623712\n",
      "line921: 0.999997292567\n",
      "line922: 0.999984351671\n",
      "line923: 0.999997277142\n",
      "line924: 0.999888073999\n",
      "line925: 0.999973837309\n",
      "line926: 0.99994762157\n",
      "line927: 0.999975366851\n",
      "line928: 0.999988488704\n",
      "line929: 0.999952564964\n",
      "line930: 0.999998126593\n",
      "line931: 0.999945225712\n",
      "line932: 0.999992751329\n",
      "line933: 0.999984060294\n",
      "line934: 0.999997695236\n",
      "line935: 0.999999283937\n",
      "line936: 0.999982730848\n",
      "line937: 0.99998051416\n",
      "line938: 0.999991080496\n",
      "line939: 0.99995078049\n",
      "line940: 0.999999258822\n",
      "line941: 0.999998373922\n",
      "line942: 0.999885454911\n",
      "line943: 0.999970214215\n",
      "line944: 0.999975550825\n",
      "line945: 0.999962552951\n",
      "line946: 0.999973660447\n",
      "line947: 0.999974430906\n",
      "line948: 0.999955859778\n",
      "line949: 0.999946567112\n",
      "line950: 0.999942500505\n",
      "line951: 0.999990041299\n",
      "line952: 0.999903758093\n",
      "line953: 0.999836275573\n",
      "line954: 0.999912599825\n",
      "line955: 0.999983648552\n",
      "line956: 0.999970864748\n",
      "line957: 0.999993974669\n",
      "line958: 0.999971531532\n",
      "line959: 0.999985018936\n",
      "line960: 0.999990913275\n",
      "line961: 0.999989491348\n",
      "line962: 0.999906369976\n",
      "line963: 0.999985690156\n",
      "line964: 0.999972364158\n",
      "line965: 0.99999220874\n",
      "line966: 0.999965849125\n",
      "line967: 0.999957646268\n",
      "line968: 0.999998563915\n",
      "line969: 0.999996703861\n",
      "line970: 0.999949910774\n",
      "line971: 0.999956259499\n",
      "line972: 0.999975102824\n",
      "line973: 0.999999861302\n",
      "line974: 0.999993331939\n",
      "line975: 0.999995326977\n",
      "line976: 0.999973716148\n",
      "line977: 0.999999271338\n",
      "line978: 0.999959026587\n",
      "line979: 0.999880557619\n",
      "line980: 0.999921644452\n",
      "line981: 0.999998035761\n",
      "line982: 0.999992092515\n",
      "line983: 0.999997841657\n",
      "line984: 0.999972120842\n",
      "line985: 0.999964464814\n",
      "line986: 0.999996723995\n",
      "line987: 0.999999132836\n",
      "line988: 0.999996195238\n",
      "line989: 0.999903488263\n"
     ]
    }
   ],
   "source": [
    "for i in range(len(dfy_pred_proba)):\n",
    "    print(\"line\" + str(i) + \": \" + str(max(dfy_pred_proba[i])))"
   ]
  },
  {
   "cell_type": "code",
   "execution_count": 35,
   "metadata": {
    "collapsed": true
   },
   "outputs": [],
   "source": [
    "from sklearn.model_selection import train_test_split\n",
    "\n",
    "X_train, X_test, y_train0, y_test0 = train_test_split(dfX, dfy, test_size=0.1)"
   ]
  },
  {
   "cell_type": "code",
   "execution_count": 36,
   "metadata": {
    "collapsed": true
   },
   "outputs": [],
   "source": [
    "model1 = LogisticRegression(C=2000, tol=0.0005, class_weight='balanced', solver='lbfgs',\\\n",
    "                                   multi_class = 'multinomial').fit(X_train, y_train0)"
   ]
  },
  {
   "cell_type": "code",
   "execution_count": 39,
   "metadata": {
    "collapsed": true
   },
   "outputs": [],
   "source": [
    "dfy1_pred = model.predict(X_train)\n",
    "dfy1_pred_proba = model.predict_proba(X_train)"
   ]
  },
  {
   "cell_type": "code",
   "execution_count": 41,
   "metadata": {
    "collapsed": true
   },
   "outputs": [
    {
     "name": "stdout",
     "output_type": "stream",
     "text": [
      "[[ 9  0  0 ...,  0  0  0]\n",
      " [ 0  9  0 ...,  0  0  0]\n",
      " [ 0  0 10 ...,  0  0  0]\n",
      " ..., \n",
      " [ 0  0  0 ...,  8  0  0]\n",
      " [ 0  0  0 ...,  0  9  0]\n",
      " [ 0  0  0 ...,  0  0  9]]\n",
      "             precision    recall  f1-score   support\n",
      "\n",
      "          0       1.00      1.00      1.00         9\n",
      "          1       1.00      1.00      1.00         9\n",
      "          2       1.00      1.00      1.00        10\n",
      "          3       1.00      1.00      1.00         8\n",
      "          4       1.00      1.00      1.00         8\n",
      "          5       1.00      1.00      1.00         8\n",
      "          6       1.00      1.00      1.00        10\n",
      "          7       1.00      1.00      1.00         8\n",
      "          8       1.00      1.00      1.00         9\n",
      "          9       1.00      1.00      1.00         8\n",
      "         10       1.00      1.00      1.00         8\n",
      "         11       1.00      1.00      1.00         9\n",
      "         12       1.00      1.00      1.00        10\n",
      "         13       1.00      1.00      1.00         9\n",
      "         14       1.00      1.00      1.00         9\n",
      "         15       1.00      1.00      1.00         8\n",
      "         16       1.00      1.00      1.00        10\n",
      "         17       1.00      1.00      1.00        10\n",
      "         18       1.00      1.00      1.00        10\n",
      "         19       1.00      1.00      1.00         9\n",
      "         20       1.00      1.00      1.00         8\n",
      "         21       1.00      1.00      1.00         8\n",
      "         22       1.00      1.00      1.00        10\n",
      "         23       1.00      1.00      1.00        10\n",
      "         24       1.00      1.00      1.00         9\n",
      "         25       1.00      1.00      1.00        10\n",
      "         26       1.00      1.00      1.00         8\n",
      "         27       1.00      1.00      1.00         8\n",
      "         28       1.00      1.00      1.00        10\n",
      "         29       1.00      1.00      1.00         9\n",
      "         30       1.00      1.00      1.00         9\n",
      "         31       1.00      1.00      1.00         9\n",
      "         32       1.00      1.00      1.00         9\n",
      "         33       1.00      1.00      1.00         7\n",
      "         34       1.00      1.00      1.00        10\n",
      "         35       1.00      1.00      1.00         9\n",
      "         36       1.00      1.00      1.00         9\n",
      "         37       1.00      1.00      1.00        10\n",
      "         38       1.00      1.00      1.00         7\n",
      "         39       1.00      1.00      1.00        10\n",
      "         40       1.00      1.00      1.00        10\n",
      "         41       1.00      1.00      1.00         9\n",
      "         42       1.00      1.00      1.00         9\n",
      "         43       1.00      1.00      1.00         8\n",
      "         44       1.00      1.00      1.00         9\n",
      "         45       1.00      1.00      1.00        10\n",
      "         46       1.00      1.00      1.00        10\n",
      "         47       1.00      1.00      1.00         9\n",
      "         48       1.00      1.00      1.00         9\n",
      "         49       1.00      1.00      1.00        10\n",
      "         50       1.00      1.00      1.00         9\n",
      "         51       1.00      1.00      1.00        10\n",
      "         52       1.00      1.00      1.00        10\n",
      "         53       1.00      1.00      1.00         8\n",
      "         54       1.00      1.00      1.00         8\n",
      "         55       1.00      1.00      1.00         8\n",
      "         56       1.00      1.00      1.00        10\n",
      "         57       1.00      1.00      1.00         8\n",
      "         58       1.00      1.00      1.00         8\n",
      "         59       1.00      1.00      1.00         8\n",
      "         60       1.00      1.00      1.00         8\n",
      "         61       1.00      1.00      1.00         7\n",
      "         62       1.00      1.00      1.00         8\n",
      "         63       1.00      1.00      1.00         8\n",
      "         64       1.00      1.00      1.00        10\n",
      "         65       1.00      1.00      1.00        10\n",
      "         66       1.00      1.00      1.00        10\n",
      "         67       1.00      1.00      1.00        10\n",
      "         68       1.00      1.00      1.00         9\n",
      "         69       1.00      1.00      1.00         9\n",
      "         70       1.00      1.00      1.00        10\n",
      "         71       1.00      1.00      1.00        10\n",
      "         72       1.00      1.00      1.00        10\n",
      "         73       1.00      1.00      1.00         9\n",
      "         74       1.00      1.00      1.00        10\n",
      "         75       1.00      1.00      1.00        10\n",
      "         76       1.00      1.00      1.00         8\n",
      "         77       1.00      1.00      1.00         9\n",
      "         78       1.00      1.00      1.00        10\n",
      "         79       1.00      1.00      1.00         9\n",
      "         80       1.00      1.00      1.00         9\n",
      "         81       1.00      1.00      1.00        10\n",
      "         82       1.00      1.00      1.00         9\n",
      "         83       1.00      1.00      1.00         9\n",
      "         84       1.00      1.00      1.00        10\n",
      "         85       1.00      1.00      1.00        10\n",
      "         86       1.00      1.00      1.00         8\n",
      "         87       1.00      1.00      1.00        10\n",
      "         88       1.00      1.00      1.00        10\n",
      "         89       1.00      1.00      1.00         8\n",
      "         90       1.00      1.00      1.00         8\n",
      "         91       1.00      1.00      1.00         9\n",
      "         92       1.00      1.00      1.00         9\n",
      "         93       1.00      1.00      1.00         8\n",
      "         94       1.00      1.00      1.00        10\n",
      "         95       1.00      1.00      1.00         6\n",
      "         96       1.00      1.00      1.00         8\n",
      "         97       1.00      1.00      1.00         9\n",
      "         98       1.00      1.00      1.00         9\n",
      "\n",
      "avg / total       1.00      1.00      1.00       891\n",
      "\n"
     ]
    }
   ],
   "source": [
    "print(confusion_matrix(y_train0, dfy1_pred))\n",
    "print(classification_report(y_train0, dfy1_pred))"
   ]
  },
  {
   "cell_type": "code",
   "execution_count": 42,
   "metadata": {
    "collapsed": true
   },
   "outputs": [],
   "source": [
    "dfy1_test_pred = model.predict(X_test)\n",
    "dfy1_test_pred_proba = model.predict_proba(X_test)"
   ]
  },
  {
   "cell_type": "code",
   "execution_count": 43,
   "metadata": {
    "collapsed": true
   },
   "outputs": [
    {
     "name": "stdout",
     "output_type": "stream",
     "text": [
      "[[1 0 0 ..., 0 0 0]\n",
      " [0 1 0 ..., 0 0 0]\n",
      " [0 0 2 ..., 0 0 0]\n",
      " ..., \n",
      " [0 0 0 ..., 2 0 0]\n",
      " [0 0 0 ..., 0 1 0]\n",
      " [0 0 0 ..., 0 0 1]]\n",
      "             precision    recall  f1-score   support\n",
      "\n",
      "          0       1.00      1.00      1.00         1\n",
      "          1       1.00      1.00      1.00         1\n",
      "          3       1.00      1.00      1.00         2\n",
      "          4       1.00      1.00      1.00         2\n",
      "          5       1.00      1.00      1.00         2\n",
      "          7       1.00      1.00      1.00         2\n",
      "          8       1.00      1.00      1.00         1\n",
      "          9       1.00      1.00      1.00         2\n",
      "         10       1.00      1.00      1.00         2\n",
      "         11       1.00      1.00      1.00         1\n",
      "         13       1.00      1.00      1.00         1\n",
      "         14       1.00      1.00      1.00         1\n",
      "         15       1.00      1.00      1.00         2\n",
      "         19       1.00      1.00      1.00         1\n",
      "         20       1.00      1.00      1.00         2\n",
      "         21       1.00      1.00      1.00         2\n",
      "         24       1.00      1.00      1.00         1\n",
      "         26       1.00      1.00      1.00         2\n",
      "         27       1.00      1.00      1.00         2\n",
      "         29       1.00      1.00      1.00         1\n",
      "         30       1.00      1.00      1.00         1\n",
      "         31       1.00      1.00      1.00         1\n",
      "         32       1.00      1.00      1.00         1\n",
      "         33       1.00      1.00      1.00         3\n",
      "         35       1.00      1.00      1.00         1\n",
      "         36       1.00      1.00      1.00         1\n",
      "         38       1.00      1.00      1.00         3\n",
      "         41       1.00      1.00      1.00         1\n",
      "         42       1.00      1.00      1.00         1\n",
      "         43       1.00      1.00      1.00         2\n",
      "         44       1.00      1.00      1.00         1\n",
      "         47       1.00      1.00      1.00         1\n",
      "         48       1.00      1.00      1.00         1\n",
      "         50       1.00      1.00      1.00         1\n",
      "         53       1.00      1.00      1.00         2\n",
      "         54       1.00      1.00      1.00         2\n",
      "         55       1.00      1.00      1.00         2\n",
      "         57       1.00      1.00      1.00         2\n",
      "         58       1.00      1.00      1.00         2\n",
      "         59       1.00      1.00      1.00         2\n",
      "         60       1.00      1.00      1.00         2\n",
      "         61       1.00      1.00      1.00         3\n",
      "         62       1.00      1.00      1.00         2\n",
      "         63       1.00      1.00      1.00         2\n",
      "         68       1.00      1.00      1.00         1\n",
      "         69       1.00      1.00      1.00         1\n",
      "         73       1.00      1.00      1.00         1\n",
      "         76       1.00      1.00      1.00         2\n",
      "         77       1.00      1.00      1.00         1\n",
      "         79       1.00      1.00      1.00         1\n",
      "         80       1.00      1.00      1.00         1\n",
      "         82       1.00      1.00      1.00         1\n",
      "         83       1.00      1.00      1.00         1\n",
      "         86       1.00      1.00      1.00         2\n",
      "         89       1.00      1.00      1.00         2\n",
      "         90       1.00      1.00      1.00         2\n",
      "         91       1.00      1.00      1.00         1\n",
      "         92       1.00      1.00      1.00         1\n",
      "         93       1.00      1.00      1.00         2\n",
      "         95       1.00      1.00      1.00         4\n",
      "         96       1.00      1.00      1.00         2\n",
      "         97       1.00      1.00      1.00         1\n",
      "         98       1.00      1.00      1.00         1\n",
      "\n",
      "avg / total       1.00      1.00      1.00        99\n",
      "\n"
     ]
    }
   ],
   "source": [
    "print(confusion_matrix(y_test0, dfy1_test_pred))\n",
    "print(classification_report(y_test0, dfy1_test_pred))"
   ]
  },
  {
   "cell_type": "code",
   "execution_count": 44,
   "metadata": {
    "collapsed": true
   },
   "outputs": [
    {
     "data": {
      "image/png": "[encoded data removed]",
      "text/plain": [
       "<matplotlib.figure.Figure at 0x7fc0250d1470>"
      ]
     },
     "metadata": {},
     "output_type": "display_data"
    }
   ],
   "source": [
    "sns.set(font_scale=0.5)\n",
    "g = sns.barplot(x=list(range(99)), y=dfy1_test_pred_proba[0])\n",
    "g.set_xticklabels(range(99), rotation=90)\n",
    "plt.grid(False)\n",
    "plt.show()"
   ]
  },
  {
   "cell_type": "code",
   "execution_count": 45,
   "metadata": {
    "collapsed": true
   },
   "outputs": [
    {
     "data": {
      "image/png": "[encoded data removed]",
      "text/plain": [
       "<matplotlib.figure.Figure at 0x7fc0248f9c50>"
      ]
     },
     "metadata": {},
     "output_type": "display_data"
    }
   ],
   "source": [
    "sns.set(font_scale=0.5)\n",
    "g = sns.barplot(x=list(range(99)), y=dfy1_test_pred_proba[1])\n",
    "g.set_xticklabels(range(99), rotation=90)\n",
    "plt.grid(False)\n",
    "plt.show()"
   ]
  },
  {
   "cell_type": "code",
   "execution_count": 46,
   "metadata": {
    "collapsed": true
   },
   "outputs": [
    {
     "name": "stdout",
     "output_type": "stream",
     "text": [
      "line0: 0.99995825626\n",
      "line1: 0.999984695051\n",
      "line2: 0.999994237245\n",
      "line3: 0.999989607061\n",
      "line4: 0.999988073355\n",
      "line5: 0.999925116292\n",
      "line6: 0.999994552557\n",
      "line7: 0.999991171002\n",
      "line8: 0.999980233545\n",
      "line9: 0.999991992526\n",
      "line10: 0.999997292567\n",
      "line11: 0.999945158349\n",
      "line12: 0.999984516987\n",
      "line13: 0.999942198754\n",
      "line14: 0.999984456961\n",
      "line15: 0.999963701641\n",
      "line16: 0.99999198875\n",
      "line17: 0.999995560914\n",
      "line18: 0.999998226816\n",
      "line19: 0.99998871706\n",
      "line20: 0.999981091226\n",
      "line21: 0.999979532127\n",
      "line22: 0.99998232819\n",
      "line23: 0.999906428091\n",
      "line24: 0.999945641697\n",
      "line25: 0.99993849698\n",
      "line26: 0.999971766772\n",
      "line27: 0.99997822865\n",
      "line28: 0.999941886364\n",
      "line29: 0.999986210466\n",
      "line30: 0.999957907391\n",
      "line31: 0.999978663484\n",
      "line32: 0.999999661442\n",
      "line33: 0.999999608893\n",
      "line34: 0.999890248525\n",
      "line35: 0.999993010898\n",
      "line36: 0.999999314103\n",
      "line37: 0.999992013343\n",
      "line38: 0.999994639528\n",
      "line39: 0.999908555323\n",
      "line40: 0.999986522886\n",
      "line41: 0.99996128512\n",
      "line42: 0.999972262461\n",
      "line43: 0.999985320881\n",
      "line44: 0.999999231954\n",
      "line45: 0.999979664108\n",
      "line46: 0.999997294476\n",
      "line47: 0.999995280977\n",
      "line48: 0.99998552683\n",
      "line49: 0.999985690156\n",
      "line50: 0.99996753477\n",
      "line51: 0.999983787477\n",
      "line52: 0.999912099632\n",
      "line53: 0.999997971676\n",
      "line54: 0.999965450474\n",
      "line55: 0.999983408839\n",
      "line56: 0.999966029005\n",
      "line57: 0.999950093073\n",
      "line58: 0.999956882898\n",
      "line59: 0.999970472131\n",
      "line60: 0.999972212832\n",
      "line61: 0.999896696698\n",
      "line62: 0.999935069672\n",
      "line63: 0.999931243514\n",
      "line64: 0.999992391526\n",
      "line65: 0.999955548553\n",
      "line66: 0.999991623712\n",
      "line67: 0.999964895676\n",
      "line68: 0.999943342095\n",
      "line69: 0.999962653533\n",
      "line70: 0.999993465886\n",
      "line71: 0.999955834871\n",
      "line72: 0.999992534654\n",
      "line73: 0.999974811792\n",
      "line74: 0.999992178571\n",
      "line75: 0.99999875399\n",
      "line76: 0.999925368917\n",
      "line77: 0.999979149974\n",
      "line78: 0.999986024277\n",
      "line79: 0.999999425045\n",
      "line80: 0.999999325654\n",
      "line81: 0.999978297303\n",
      "line82: 0.999999926161\n",
      "line83: 0.999952107519\n",
      "line84: 0.999983048649\n",
      "line85: 0.999908986191\n",
      "line86: 0.999997695236\n",
      "line87: 0.999983594136\n",
      "line88: 0.999986463774\n",
      "line89: 0.999960741112\n",
      "line90: 0.999979150877\n",
      "line91: 0.999965885381\n",
      "line92: 0.999814786809\n",
      "line93: 0.999974385462\n",
      "line94: 0.999942183474\n",
      "line95: 0.999991585662\n",
      "line96: 0.999922912066\n",
      "line97: 0.999964800541\n",
      "line98: 0.999997211142\n"
     ]
    }
   ],
   "source": [
    "for i in range(len(dfy1_test_pred_proba)):\n",
    "    print(\"line\" + str(i) + \": \" + str(max(dfy1_test_pred_proba[i])))"
   ]
  },
  {
   "cell_type": "code",
   "execution_count": 59,
   "metadata": {},
   "outputs": [
    {
     "data": {
      "text/plain": [
       "array([-0.05759186, -0.09897428, -0.03429326, -0.06918317, -0.06422419,\n",
       "       -0.06778161, -0.07611954, -0.03349465, -0.03428408, -0.04875142])"
      ]
     },
     "execution_count": 59,
     "metadata": {},
     "output_type": "execute_result"
    }
   ],
   "source": [
    "model = LogisticRegression(C=2000.0, tol=0.0005, class_weight='balanced', solver = 'lbfgs', \\\n",
    "                                   multi_class = 'multinomial')\n",
    "\n",
    "bc_model = BaggingClassifier(base_estimator=model, n_estimators=100, \\\n",
    "                                  bootstrap=True, bootstrap_features=True)\n",
    "\n",
    "cross_val_score(bc_model,dfX, dfy, scoring='neg_log_loss', cv=10)"
   ]
  },
  {
   "cell_type": "code",
   "execution_count": 60,
   "metadata": {},
   "outputs": [
    {
     "data": {
      "text/plain": [
       "-0.058469805999999999"
      ]
     },
     "execution_count": 60,
     "metadata": {},
     "output_type": "execute_result"
    }
   ],
   "source": [
    "np.mean([-0.05759186, -0.09897428, -0.03429326, -0.06918317, -0.06422419, \\\n",
    "       -0.06778161, -0.07611954, -0.03349465, -0.03428408, -0.04875142])"
   ]
  },
  {
   "cell_type": "markdown",
   "metadata": {},
   "source": [
    "# Test Prediction"
   ]
  },
  {
   "cell_type": "code",
   "execution_count": 86,
   "metadata": {},
   "outputs": [
    {
     "data": {
      "text/plain": [
       "array([-0.03355026, -0.04903544, -0.00143841, -0.01903011, -0.02847103,\n",
       "       -0.02661093, -0.04901214, -0.00345704, -0.00178166, -0.00407421])"
      ]
     },
     "execution_count": 86,
     "metadata": {},
     "output_type": "execute_result"
    }
   ],
   "source": [
    "model = LogisticRegression(C=1500, tol=0.0005, class_weight='balanced', solver='lbfgs',\\\n",
    "                                   multi_class = 'multinomial').fit(dfX, dfy)\n",
    "cross_val_score(model, dfX, dfy, scoring='neg_log_loss', cv=10)"
   ]
  },
  {
   "cell_type": "code",
   "execution_count": 87,
   "metadata": {},
   "outputs": [
    {
     "data": {
      "text/plain": [
       "-0.021646123"
      ]
     },
     "execution_count": 87,
     "metadata": {},
     "output_type": "execute_result"
    }
   ],
   "source": [
    "np.mean([-0.03355026, -0.04903544, -0.00143841, -0.01903011, -0.02847103,\n",
    "       -0.02661093, -0.04901214, -0.00345704, -0.00178166, -0.00407421])"
   ]
  },
  {
   "cell_type": "code",
   "execution_count": 91,
   "metadata": {},
   "outputs": [],
   "source": [
    "dfy_test_pred = model.predict(dfX_test)\n",
    "dfy_test_pred_proba = model.predict_proba(dfX_test)"
   ]
  },
  {
   "cell_type": "code",
   "execution_count": 103,
   "metadata": {},
   "outputs": [],
   "source": [
    "dfy_test_pred_proba_df = pd.DataFrame(dfy_test_pred_proba, columns=sub_list)"
   ]
  },
  {
   "cell_type": "code",
   "execution_count": 105,
   "metadata": {},
   "outputs": [],
   "source": [
    "final_submission_df = pd.concat([test_id_df, dfy_test_pred_proba_df], axis=1)\n",
    "final_submission_df.to_csv('final_submission_20171121.csv', index=False)"
   ]
  },
  {
   "cell_type": "code",
   "execution_count": 107,
   "metadata": {},
   "outputs": [],
   "source": [
    "# !cat final_submission_20171121.csv"
   ]
  },
  {
   "cell_type": "markdown",
   "metadata": {},
   "source": [
    "![Alt Text](result_submission_20171121.png \"result\")"
   ]
  },
  {
   "cell_type": "markdown",
   "metadata": {},
   "source": [
    "#   \n",
    "# Further\n",
    "#    "
   ]
  },
  {
   "cell_type": "markdown",
   "metadata": {},
   "source": [
    "> 1. SVC 개선, Keras, CNN을 적용하여 분석해보자\n",
    "2. 고유분해 Eigen Value, Vector와 관련해 그래프를 그려보고 파악해보자\n",
    "3. 카테고리에 PCA와 비슷하게 적용되는 Multiple correspondence analysis를 이용해보자\n",
    "4. 프로그램화 하여 완성된 제품을 만들어보자"
   ]
  },
  {
   "cell_type": "code",
   "execution_count": null,
   "metadata": {
    "collapsed": true
   },
   "outputs": [],
   "source": []
  }
 ],
 "metadata": {
  "kernelspec": {
   "display_name": "Python 3",
   "language": "python",
   "name": "python3"
  },
  "language_info": {
   "codemirror_mode": {
    "name": "ipython",
    "version": 3
   },
   "file_extension": ".py",
   "mimetype": "text/x-python",
   "name": "python",
   "nbconvert_exporter": "python",
   "pygments_lexer": "ipython3",
   "version": "3.6.2"
  }
 },
 "nbformat": 4,
 "nbformat_minor": 2
}
